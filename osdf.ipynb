{
 "cells": [
  {
   "cell_type": "code",
   "id": "initial_id",
   "metadata": {
    "collapsed": true,
    "ExecuteTime": {
     "end_time": "2024-10-04T20:38:50.082872Z",
     "start_time": "2024-10-04T20:38:47.680825Z"
    }
   },
   "source": [
    "import requests\n",
    "import json\n",
    "\n",
    "\n",
    "SUMMARY_INDEX = \"xrd-stash*\"\n",
    "ENDPOINT = \"https://gracc.opensciencegrid.org:443/q\"\n",
    "HEADERS = {\n",
    "    'Content-Type': 'application/json'\n",
    "}\n",
    "\n",
    "\n",
    "# Get the number of records for the last day\n",
    "query = {\n",
    "    \"size\": 0,\n",
    "    \"query\": {\n",
    "        \"range\": {\n",
    "            \"@timestamp\": {\n",
    "                \"gte\": \"now-7d/d\",\n",
    "                \"lt\": \"now/d\"\n",
    "            }\n",
    "        }\n",
    "    },\n",
    "    \"aggs\": {\n",
    "        \"by_host\": {\n",
    "            \"terms\": {\n",
    "                \"field\": \"host.keyword\",\n",
    "                \"size\": 10000\n",
    "            },\n",
    "            \"aggs\": {\n",
    "                \"total_write\": {\n",
    "                    \"sum\": {\n",
    "                        \"field\": \"write\"\n",
    "                    }\n",
    "                }\n",
    "            }\n",
    "        }\n",
    "    }\n",
    "}\n",
    "\n",
    "response_json = requests.get(f\"{ENDPOINT}/{SUMMARY_INDEX}/_search\", data=json.dumps(query), headers=HEADERS).json()\n",
    "\n",
    "open(\"response.json\", \"w\").write(json.dumps(response_json, indent=4))\n",
    "\n",
    "str(response_json)[:1000]"
   ],
   "outputs": [
    {
     "data": {
      "text/plain": [
       "\"{'took': 2096, 'timed_out': False, '_shards': {'total': 559, 'successful': 559, 'skipped': 547, 'failed': 0}, 'hits': {'total': {'value': 10000, 'relation': 'gte'}, 'max_score': None, 'hits': []}, 'aggregations': {'by_host': {'doc_count_error_upper_bound': 0, 'sum_other_doc_count': 18925, 'buckets': [{'key': 'amst-osdf-xcache01.es.net', 'doc_count': 34407831, 'total_write': {'value': 0.0}}, {'key': 'hcc-nrp-shor-c5832.unl.edu', 'doc_count': 19027351, 'total_write': {'value': 0.0}}, {'key': 'lond-osdf-xcache01.es.net', 'doc_count': 3731430, 'total_write': {'value': 0.0}}, {'key': '[2001:468:1f16:6::2]', 'doc_count': 3451115, 'total_write': {'value': 0.0}}, {'key': '[::ffff:132.249.252.215]', 'doc_count': 3174124, 'total_write': {'value': 0.0}}, {'key': '[::128.118.7.6]', 'doc_count': 2438950, 'total_write': {'value': 0.0}}, {'key': 'osg.newy32aoa.nrp.internet2.edu', 'doc_count': 2346615, 'total_write': {'value': 0.0}}, {'key': '[2001:468:1f16:8::2]', 'doc_count': 1431816, 'total_write':\""
      ]
     },
     "execution_count": 24,
     "metadata": {},
     "output_type": "execute_result"
    }
   ],
   "execution_count": 24
  },
  {
   "metadata": {
    "ExecuteTime": {
     "end_time": "2024-10-04T20:38:53.070605Z",
     "start_time": "2024-10-04T20:38:53.060580Z"
    }
   },
   "cell_type": "code",
   "source": [
    "# Print out the set of values for the value field\n",
    "values = set([x['total_write']['value'] for x in response_json['aggregations']['by_host']['buckets']])\n",
    "\n",
    "values"
   ],
   "id": "4a432fa195c7c707",
   "outputs": [
    {
     "data": {
      "text/plain": [
       "{0.0,\n",
       " 142.0,\n",
       " 264.0,\n",
       " 2560.0,\n",
       " 5394.0,\n",
       " 11520.0,\n",
       " 12800.0,\n",
       " 30464.0,\n",
       " 255744.0,\n",
       " 271872.0,\n",
       " 44286000616.0}"
      ]
     },
     "execution_count": 25,
     "metadata": {},
     "output_type": "execute_result"
    }
   ],
   "execution_count": 25
  },
  {
   "metadata": {
    "ExecuteTime": {
     "end_time": "2024-10-04T20:38:54.152186Z",
     "start_time": "2024-10-04T20:38:54.142246Z"
    }
   },
   "cell_type": "code",
   "source": [
    "# Print out the non 0 hosts\n",
    "hosts = [x['key'] for x in response_json['aggregations']['by_host']['buckets'] if x['total_write']['value'] != 0]\n",
    "\n",
    "hosts"
   ],
   "id": "9851e234a56f4edb",
   "outputs": [
    {
     "data": {
      "text/plain": [
       "['etf-07.cern.ch',\n",
       " 'etf-08.cern.ch',\n",
       " 'etf-14.cern.ch',\n",
       " 'datarucio.virgo.infn.it',\n",
       " 'osg-test',\n",
       " 'etf-06.cern.ch',\n",
       " 'etf-05.cern.ch',\n",
       " 'etf-13.cern.ch',\n",
       " 'virgo-test-01.to.infn.it',\n",
       " 'virgo-test-02.to.infn.it']"
      ]
     },
     "execution_count": 26,
     "metadata": {},
     "output_type": "execute_result"
    }
   ],
   "execution_count": 26
  },
  {
   "metadata": {
    "ExecuteTime": {
     "end_time": "2024-10-04T20:36:52.605654Z",
     "start_time": "2024-10-04T20:36:52.603479Z"
    }
   },
   "cell_type": "code",
   "source": "",
   "id": "a07335b1ec140e10",
   "outputs": [],
   "execution_count": 20
  }
 ],
 "metadata": {
  "kernelspec": {
   "display_name": "Python 3",
   "language": "python",
   "name": "python3"
  },
  "language_info": {
   "codemirror_mode": {
    "name": "ipython",
    "version": 2
   },
   "file_extension": ".py",
   "mimetype": "text/x-python",
   "name": "python",
   "nbconvert_exporter": "python",
   "pygments_lexer": "ipython2",
   "version": "2.7.6"
  }
 },
 "nbformat": 4,
 "nbformat_minor": 5
}

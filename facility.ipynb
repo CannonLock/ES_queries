{
 "cells": [
  {
   "cell_type": "code",
   "execution_count": 1,
   "metadata": {
    "collapsed": true,
    "pycharm": {
     "name": "#%%\n"
    }
   },
   "outputs": [],
   "source": [
    "import requests\n",
    "import datetime\n",
    "import json"
   ]
  },
  {
   "cell_type": "code",
   "execution_count": 1,
   "outputs": [
    {
     "ename": "NameError",
     "evalue": "name 'datetime' is not defined",
     "output_type": "error",
     "traceback": [
      "\u001B[0;31m---------------------------------------------------------------------------\u001B[0m",
      "\u001B[0;31mNameError\u001B[0m                                 Traceback (most recent call last)",
      "Cell \u001B[0;32mIn [1], line 13\u001B[0m\n\u001B[1;32m      2\u001B[0m ENDPOINT \u001B[38;5;241m=\u001B[39m \u001B[38;5;124m\"\u001B[39m\u001B[38;5;124mhttps://gracc.opensciencegrid.org:443/q\u001B[39m\u001B[38;5;124m\"\u001B[39m\n\u001B[1;32m      3\u001B[0m HEADERS \u001B[38;5;241m=\u001B[39m {\u001B[38;5;124m'\u001B[39m\u001B[38;5;124mContent-Type\u001B[39m\u001B[38;5;124m'\u001B[39m: \u001B[38;5;124m'\u001B[39m\u001B[38;5;124mapplication/json\u001B[39m\u001B[38;5;124m'\u001B[39m}\n\u001B[1;32m      5\u001B[0m test_query \u001B[38;5;241m=\u001B[39m {\n\u001B[1;32m      6\u001B[0m     \u001B[38;5;124m\"\u001B[39m\u001B[38;5;124msize\u001B[39m\u001B[38;5;124m\"\u001B[39m: \u001B[38;5;241m0\u001B[39m,\n\u001B[1;32m      7\u001B[0m     \u001B[38;5;124m\"\u001B[39m\u001B[38;5;124mquery\u001B[39m\u001B[38;5;124m\"\u001B[39m: {\n\u001B[1;32m      8\u001B[0m         \u001B[38;5;124m\"\u001B[39m\u001B[38;5;124mbool\u001B[39m\u001B[38;5;124m\"\u001B[39m : {\n\u001B[1;32m      9\u001B[0m             \u001B[38;5;124m\"\u001B[39m\u001B[38;5;124mfilter\u001B[39m\u001B[38;5;124m\"\u001B[39m : [\n\u001B[1;32m     10\u001B[0m                 { \u001B[38;5;124m\"\u001B[39m\u001B[38;5;124mterm\u001B[39m\u001B[38;5;124m\"\u001B[39m : { \u001B[38;5;124m\"\u001B[39m\u001B[38;5;124mResourceType\u001B[39m\u001B[38;5;124m\"\u001B[39m: \u001B[38;5;124m\"\u001B[39m\u001B[38;5;124mPayload\u001B[39m\u001B[38;5;124m\"\u001B[39m }},\n\u001B[1;32m     11\u001B[0m                 { \u001B[38;5;124m\"\u001B[39m\u001B[38;5;124mrange\u001B[39m\u001B[38;5;124m\"\u001B[39m: {\n\u001B[1;32m     12\u001B[0m                     \u001B[38;5;124m\"\u001B[39m\u001B[38;5;124mEndTime\u001B[39m\u001B[38;5;124m\"\u001B[39m: {\n\u001B[0;32m---> 13\u001B[0m                         \u001B[38;5;124m\"\u001B[39m\u001B[38;5;124mlte\u001B[39m\u001B[38;5;124m\"\u001B[39m: \u001B[38;5;28mint\u001B[39m(\u001B[43mdatetime\u001B[49m\u001B[38;5;241m.\u001B[39mdatetime\u001B[38;5;241m.\u001B[39mnow()\u001B[38;5;241m.\u001B[39mtimestamp()\u001B[38;5;241m*\u001B[39m\u001B[38;5;241m1000\u001B[39m),\n\u001B[1;32m     14\u001B[0m                         \u001B[38;5;124m\"\u001B[39m\u001B[38;5;124mgte\u001B[39m\u001B[38;5;124m\"\u001B[39m: \u001B[38;5;28mint\u001B[39m((datetime\u001B[38;5;241m.\u001B[39mdatetime\u001B[38;5;241m.\u001B[39mnow() \u001B[38;5;241m-\u001B[39m datetime\u001B[38;5;241m.\u001B[39mtimedelta(days\u001B[38;5;241m=\u001B[39m\u001B[38;5;241m365\u001B[39m))\u001B[38;5;241m.\u001B[39mtimestamp()\u001B[38;5;241m*\u001B[39m\u001B[38;5;241m1000\u001B[39m)\n\u001B[1;32m     15\u001B[0m                     }\n\u001B[1;32m     16\u001B[0m                 }}\n\u001B[1;32m     17\u001B[0m             ]\n\u001B[1;32m     18\u001B[0m         }\n\u001B[1;32m     19\u001B[0m     },\n\u001B[1;32m     20\u001B[0m     \u001B[38;5;124m\"\u001B[39m\u001B[38;5;124maggs\u001B[39m\u001B[38;5;124m\"\u001B[39m: {\n\u001B[1;32m     21\u001B[0m         \u001B[38;5;124m\"\u001B[39m\u001B[38;5;124mfacilities\u001B[39m\u001B[38;5;124m\"\u001B[39m: {\n\u001B[1;32m     22\u001B[0m             \u001B[38;5;124m\"\u001B[39m\u001B[38;5;124mterms\u001B[39m\u001B[38;5;124m\"\u001B[39m: {\n\u001B[1;32m     23\u001B[0m                 \u001B[38;5;124m\"\u001B[39m\u001B[38;5;124mfield\u001B[39m\u001B[38;5;124m\"\u001B[39m: \u001B[38;5;124m\"\u001B[39m\u001B[38;5;124mOIM_ProjectName\u001B[39m\u001B[38;5;124m\"\u001B[39m,\n\u001B[1;32m     24\u001B[0m                 \u001B[38;5;124m\"\u001B[39m\u001B[38;5;124msize\u001B[39m\u001B[38;5;124m\"\u001B[39m: \u001B[38;5;241m99999999\u001B[39m\n\u001B[1;32m     25\u001B[0m             },\n\u001B[1;32m     26\u001B[0m             \u001B[38;5;124m\"\u001B[39m\u001B[38;5;124maggs\u001B[39m\u001B[38;5;124m\"\u001B[39m: {\n\u001B[1;32m     27\u001B[0m                 \u001B[38;5;124m\"\u001B[39m\u001B[38;5;124mfacilityCpuProvided\u001B[39m\u001B[38;5;124m\"\u001B[39m: {\n\u001B[1;32m     28\u001B[0m                     \u001B[38;5;124m\"\u001B[39m\u001B[38;5;124msum\u001B[39m\u001B[38;5;124m\"\u001B[39m: {\n\u001B[1;32m     29\u001B[0m                         \u001B[38;5;124m\"\u001B[39m\u001B[38;5;124mfield\u001B[39m\u001B[38;5;124m\"\u001B[39m: \u001B[38;5;124m\"\u001B[39m\u001B[38;5;124mCoreHours\u001B[39m\u001B[38;5;124m\"\u001B[39m\n\u001B[1;32m     30\u001B[0m                     }\n\u001B[1;32m     31\u001B[0m                 },\n\u001B[1;32m     32\u001B[0m                 \u001B[38;5;124m\"\u001B[39m\u001B[38;5;124mfacilityGpuProvided\u001B[39m\u001B[38;5;124m\"\u001B[39m: {\n\u001B[1;32m     33\u001B[0m                     \u001B[38;5;124m\"\u001B[39m\u001B[38;5;124msum\u001B[39m\u001B[38;5;124m\"\u001B[39m: {\n\u001B[1;32m     34\u001B[0m                         \u001B[38;5;124m\"\u001B[39m\u001B[38;5;124mfield\u001B[39m\u001B[38;5;124m\"\u001B[39m: \u001B[38;5;124m\"\u001B[39m\u001B[38;5;124mGPUHours\u001B[39m\u001B[38;5;124m\"\u001B[39m\n\u001B[1;32m     35\u001B[0m                     }\n\u001B[1;32m     36\u001B[0m                 },\n\u001B[1;32m     37\u001B[0m                 \u001B[38;5;124m\"\u001B[39m\u001B[38;5;124mcountProjectsImpacted\u001B[39m\u001B[38;5;124m\"\u001B[39m: {\n\u001B[1;32m     38\u001B[0m                     \u001B[38;5;124m\"\u001B[39m\u001B[38;5;124mcardinality\u001B[39m\u001B[38;5;124m\"\u001B[39m: {\n\u001B[1;32m     39\u001B[0m                         \u001B[38;5;124m\"\u001B[39m\u001B[38;5;124mfield\u001B[39m\u001B[38;5;124m\"\u001B[39m: \u001B[38;5;124m\"\u001B[39m\u001B[38;5;124mProjectName\u001B[39m\u001B[38;5;124m\"\u001B[39m\n\u001B[1;32m     40\u001B[0m                     }\n\u001B[1;32m     41\u001B[0m                 },\n\u001B[1;32m     42\u001B[0m                 \u001B[38;5;124m\"\u001B[39m\u001B[38;5;124mcountFieldsOfScienceImpacted\u001B[39m\u001B[38;5;124m\"\u001B[39m: {\n\u001B[1;32m     43\u001B[0m                     \u001B[38;5;124m\"\u001B[39m\u001B[38;5;124mcardinality\u001B[39m\u001B[38;5;124m\"\u001B[39m: {\n\u001B[1;32m     44\u001B[0m                         \u001B[38;5;124m\"\u001B[39m\u001B[38;5;124mfield\u001B[39m\u001B[38;5;124m\"\u001B[39m: \u001B[38;5;124m\"\u001B[39m\u001B[38;5;124mOIM_FieldOfScience\u001B[39m\u001B[38;5;124m\"\u001B[39m\n\u001B[1;32m     45\u001B[0m                     }\n\u001B[1;32m     46\u001B[0m                 },\n\u001B[1;32m     47\u001B[0m                 \u001B[38;5;124m\"\u001B[39m\u001B[38;5;124mcountOrganizationImpacted\u001B[39m\u001B[38;5;124m\"\u001B[39m: {\n\u001B[1;32m     48\u001B[0m                     \u001B[38;5;124m\"\u001B[39m\u001B[38;5;124mcardinality\u001B[39m\u001B[38;5;124m\"\u001B[39m: {\n\u001B[1;32m     49\u001B[0m                         \u001B[38;5;124m\"\u001B[39m\u001B[38;5;124mfield\u001B[39m\u001B[38;5;124m\"\u001B[39m: \u001B[38;5;124m\"\u001B[39m\u001B[38;5;124mOIM_Organization\u001B[39m\u001B[38;5;124m\"\u001B[39m\n\u001B[1;32m     50\u001B[0m                     }\n\u001B[1;32m     51\u001B[0m                 },\n\u001B[1;32m     52\u001B[0m                 \u001B[38;5;124m\"\u001B[39m\u001B[38;5;124mgpu_bucket_filter\u001B[39m\u001B[38;5;124m\"\u001B[39m: {\n\u001B[1;32m     53\u001B[0m                   \u001B[38;5;124m\"\u001B[39m\u001B[38;5;124mbucket_selector\u001B[39m\u001B[38;5;124m\"\u001B[39m: {\n\u001B[1;32m     54\u001B[0m                     \u001B[38;5;124m\"\u001B[39m\u001B[38;5;124mbuckets_path\u001B[39m\u001B[38;5;124m\"\u001B[39m: {\n\u001B[1;32m     55\u001B[0m                       \u001B[38;5;124m\"\u001B[39m\u001B[38;5;124mtotalGPU\u001B[39m\u001B[38;5;124m\"\u001B[39m: \u001B[38;5;124m\"\u001B[39m\u001B[38;5;124mfacilityGpuProvided\u001B[39m\u001B[38;5;124m\"\u001B[39m,\n\u001B[1;32m     56\u001B[0m                       \u001B[38;5;124m\"\u001B[39m\u001B[38;5;124mtotalCPU\u001B[39m\u001B[38;5;124m\"\u001B[39m: \u001B[38;5;124m\"\u001B[39m\u001B[38;5;124mfacilityCpuProvided\u001B[39m\u001B[38;5;124m\"\u001B[39m\n\u001B[1;32m     57\u001B[0m                     },\n\u001B[1;32m     58\u001B[0m                     \u001B[38;5;124m\"\u001B[39m\u001B[38;5;124mscript\u001B[39m\u001B[38;5;124m\"\u001B[39m: \u001B[38;5;124m\"\u001B[39m\u001B[38;5;124mparams.totalGPU > 0 || params.totalCPU > 0\u001B[39m\u001B[38;5;124m\"\u001B[39m\n\u001B[1;32m     59\u001B[0m                   }\n\u001B[1;32m     60\u001B[0m                 },\n\u001B[1;32m     61\u001B[0m             }\n\u001B[1;32m     62\u001B[0m         }\n\u001B[1;32m     63\u001B[0m     }\n\u001B[1;32m     64\u001B[0m }\n\u001B[1;32m     66\u001B[0m response_json \u001B[38;5;241m=\u001B[39m requests\u001B[38;5;241m.\u001B[39mget(\u001B[38;5;124mf\u001B[39m\u001B[38;5;124m\"\u001B[39m\u001B[38;5;132;01m{\u001B[39;00mENDPOINT\u001B[38;5;132;01m}\u001B[39;00m\u001B[38;5;124m/\u001B[39m\u001B[38;5;132;01m{\u001B[39;00mSUMMARY_INDEX\u001B[38;5;132;01m}\u001B[39;00m\u001B[38;5;124m/_search\u001B[39m\u001B[38;5;124m\"\u001B[39m, headers\u001B[38;5;241m=\u001B[39mHEADERS)\u001B[38;5;241m.\u001B[39mjson()\n\u001B[1;32m     68\u001B[0m response_json\n",
      "\u001B[0;31mNameError\u001B[0m: name 'datetime' is not defined"
     ]
    }
   ],
   "source": [
    "SUMMARY_INDEX = \"gracc.osg.summary\"\n",
    "ENDPOINT = \"https://gracc.opensciencegrid.org:443/q\"\n",
    "HEADERS = {'Content-Type': 'application/json'}\n",
    "\n",
    "test_query = {\n",
    "    \"size\": 0,\n",
    "    \"query\": {\n",
    "        \"bool\" : {\n",
    "            \"filter\" : [\n",
    "                { \"term\" : { \"ResourceType\": \"Payload\" }},\n",
    "                { \"range\": {\n",
    "                    \"EndTime\": {\n",
    "                        \"lte\": int(datetime.datetime.now().timestamp()*1000),\n",
    "                        \"gte\": int((datetime.datetime.now() - datetime.timedelta(days=365)).timestamp()*1000)\n",
    "                    }\n",
    "                }}\n",
    "            ]\n",
    "        }\n",
    "    },\n",
    "    \"aggs\": {\n",
    "        \"facilities\": {\n",
    "            \"terms\": {\n",
    "                \"field\": \"OIM_ProjectName\",\n",
    "                \"size\": 99999999\n",
    "            },\n",
    "            \"aggs\": {\n",
    "                \"facilityCpuProvided\": {\n",
    "                    \"sum\": {\n",
    "                        \"field\": \"CoreHours\"\n",
    "                    }\n",
    "                },\n",
    "                \"facilityGpuProvided\": {\n",
    "                    \"sum\": {\n",
    "                        \"field\": \"GPUHours\"\n",
    "                    }\n",
    "                },\n",
    "                \"countProjectsImpacted\": {\n",
    "                    \"cardinality\": {\n",
    "                        \"field\": \"ProjectName\"\n",
    "                    }\n",
    "                },\n",
    "                \"countFieldsOfScienceImpacted\": {\n",
    "                    \"cardinality\": {\n",
    "                        \"field\": \"OIM_FieldOfScience\"\n",
    "                    }\n",
    "                },\n",
    "                \"countOrganizationImpacted\": {\n",
    "                    \"cardinality\": {\n",
    "                        \"field\": \"OIM_Organization\"\n",
    "                    }\n",
    "                },\n",
    "                \"gpu_bucket_filter\": {\n",
    "                  \"bucket_selector\": {\n",
    "                    \"buckets_path\": {\n",
    "                      \"totalGPU\": \"facilityGpuProvided\",\n",
    "                      \"totalCPU\": \"facilityCpuProvided\"\n",
    "                    },\n",
    "                    \"script\": \"params.totalGPU > 0 || params.totalCPU > 0\"\n",
    "                  }\n",
    "                },\n",
    "            }\n",
    "        }\n",
    "    }\n",
    "}\n",
    "\n",
    "response_json = requests.get(f\"{ENDPOINT}/{SUMMARY_INDEX}/_search\", headers=HEADERS).json()\n",
    "\n",
    "response_json"
   ],
   "metadata": {
    "collapsed": false,
    "pycharm": {
     "name": "#%%\n"
    }
   }
  },
  {
   "cell_type": "code",
   "execution_count": 11,
   "outputs": [
    {
     "data": {
      "text/plain": "'{\"size\": 0, \"query\": {\"bool\": {\"filter\": [{\"term\": {\"ResourceType\": \"Payload\"}}, {\"range\": {\"EndTime\": {\"lte\": 1667862127510, \"gte\": 1636326127510}}}]}}, \"aggs\": {\"facilities\": {\"terms\": {\"field\": \"OIM_Facility\", \"size\": 99999999}, \"aggs\": {\"facilityCpuProvided\": {\"sum\": {\"field\": \"CoreHours\"}}, \"facilityGpuProvided\": {\"sum\": {\"field\": \"GPUHours\"}}, \"countProjectsImpacted\": {\"cardinality\": {\"field\": \"ProjectName\"}}, \"countFieldsOfScienceImpacted\": {\"cardinality\": {\"field\": \"OIM_FieldOfScience\"}}, \"countOrganizationImpacted\": {\"cardinality\": {\"field\": \"OIM_Organization\"}}, \"gpu_bucket_filter\": {\"bucket_selector\": {\"buckets_path\": {\"totalGPU\": \"facilityGpuProvided\", \"totalCPU\": \"facilityCpuProvided\"}, \"script\": \"params.totalGPU > 0 || params.totalCPU > 0\"}}}}}}'"
     },
     "execution_count": 11,
     "metadata": {},
     "output_type": "execute_result"
    }
   ],
   "source": [
    "json.dumps(test_query)"
   ],
   "metadata": {
    "collapsed": false,
    "pycharm": {
     "name": "#%%\n"
    }
   }
  },
  {
   "cell_type": "code",
   "execution_count": 17,
   "outputs": [],
   "source": [
    "gracc_facility_names = set(x['key'] for x in response_json['aggregations']['facilities']['buckets'])"
   ],
   "metadata": {
    "collapsed": false,
    "pycharm": {
     "name": "#%%\n"
    }
   }
  },
  {
   "cell_type": "code",
   "execution_count": 18,
   "outputs": [],
   "source": [
    "topology_facility_names = json.load(open(\"/Users/clock/Downloads/facility_json.json\")).keys()"
   ],
   "metadata": {
    "collapsed": false,
    "pycharm": {
     "name": "#%%\n"
    }
   }
  },
  {
   "cell_type": "code",
   "execution_count": 19,
   "outputs": [
    {
     "data": {
      "text/plain": "set()"
     },
     "execution_count": 19,
     "metadata": {},
     "output_type": "execute_result"
    }
   ],
   "source": [
    "gracc_facility_names.difference(topology_facility_names)"
   ],
   "metadata": {
    "collapsed": false,
    "pycharm": {
     "name": "#%%\n"
    }
   }
  },
  {
   "cell_type": "code",
   "execution_count": null,
   "outputs": [],
   "source": [],
   "metadata": {
    "collapsed": false,
    "pycharm": {
     "name": "#%%\n"
    }
   }
  }
 ],
 "metadata": {
  "kernelspec": {
   "display_name": "Python 3",
   "language": "python",
   "name": "python3"
  },
  "language_info": {
   "codemirror_mode": {
    "name": "ipython",
    "version": 2
   },
   "file_extension": ".py",
   "mimetype": "text/x-python",
   "name": "python",
   "nbconvert_exporter": "python",
   "pygments_lexer": "ipython2",
   "version": "2.7.6"
  }
 },
 "nbformat": 4,
 "nbformat_minor": 0
}
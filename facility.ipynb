{
 "cells": [
  {
   "cell_type": "code",
   "execution_count": 2,
   "metadata": {
    "collapsed": true,
    "pycharm": {
     "name": "#%%\n"
    }
   },
   "outputs": [],
   "source": [
    "import requests\n",
    "import datetime\n",
    "import json"
   ]
  },
  {
   "cell_type": "code",
   "execution_count": 8,
   "outputs": [
    {
     "data": {
      "text/plain": "{'took': 249,\n 'timed_out': False,\n '_shards': {'total': 22, 'successful': 22, 'skipped': 0, 'failed': 0},\n 'hits': {'total': {'value': 10000, 'relation': 'gte'},\n  'max_score': None,\n  'hits': []},\n 'aggregations': {'jobsRan': {'value': 344186636.0},\n  'projects': {'value': 282},\n  'FieldsOfScience': {'value': 66},\n  'facilities': {'doc_count_error_upper_bound': 0,\n   'sum_other_doc_count': 0,\n   'buckets': [{'key': 'Fermi National Accelerator Laboratory',\n     'doc_count': 73993,\n     'countProjectsImpacted': {'value': 163},\n     'facilityCpuProvided': {'value': 256736800.25555554},\n     'countOrganizationImpacted': {'value': 89},\n     'countFieldsOfScienceImpacted': {'value': 48},\n     'facilityGpuProvided': {'value': 10.045555114746094}},\n    {'key': 'University of Wisconsin',\n     'doc_count': 54668,\n     'countProjectsImpacted': {'value': 205},\n     'facilityCpuProvided': {'value': 169695972.22555557},\n     'countOrganizationImpacted': {'value': 104},\n     'countFieldsOfScienceImpacted': {'value': 59},\n     'facilityGpuProvided': {'value': 642482.3278455331}},\n    {'key': 'Great Plains Network',\n     'doc_count': 50234,\n     'countProjectsImpacted': {'value': 135},\n     'facilityCpuProvided': {'value': 10170358.990277778},\n     'countOrganizationImpacted': {'value': 79},\n     'countFieldsOfScienceImpacted': {'value': 52},\n     'facilityGpuProvided': {'value': 13771.25301769954}},\n    {'key': 'Syracuse University',\n     'doc_count': 32362,\n     'countProjectsImpacted': {'value': 194},\n     'facilityCpuProvided': {'value': 148841829.29583332},\n     'countOrganizationImpacted': {'value': 98},\n     'countFieldsOfScienceImpacted': {'value': 58},\n     'facilityGpuProvided': {'value': 1794.022234544158}},\n    {'key': 'University of Colorado',\n     'doc_count': 23390,\n     'countProjectsImpacted': {'value': 194},\n     'facilityCpuProvided': {'value': 9756058.491388889},\n     'countOrganizationImpacted': {'value': 103},\n     'countFieldsOfScienceImpacted': {'value': 54},\n     'facilityGpuProvided': {'value': 0.0}},\n    {'key': 'University of Connecticut',\n     'doc_count': 23003,\n     'countProjectsImpacted': {'value': 181},\n     'facilityCpuProvided': {'value': 16728300.834722223},\n     'countOrganizationImpacted': {'value': 92},\n     'countFieldsOfScienceImpacted': {'value': 52},\n     'facilityGpuProvided': {'value': 0.0}},\n    {'key': 'Purdue University',\n     'doc_count': 22874,\n     'countProjectsImpacted': {'value': 118},\n     'facilityCpuProvided': {'value': 81523752.14944445},\n     'countOrganizationImpacted': {'value': 77},\n     'countFieldsOfScienceImpacted': {'value': 43},\n     'facilityGpuProvided': {'value': 75.68027853965759}},\n    {'key': 'University of California San Diego',\n     'doc_count': 22422,\n     'countProjectsImpacted': {'value': 128},\n     'facilityCpuProvided': {'value': 56736618.949999996},\n     'countOrganizationImpacted': {'value': 75},\n     'countFieldsOfScienceImpacted': {'value': 40},\n     'facilityGpuProvided': {'value': 577538.5907057254}},\n    {'key': 'University of Nebraska',\n     'doc_count': 21844,\n     'countProjectsImpacted': {'value': 175},\n     'facilityCpuProvided': {'value': 45438602.95583333},\n     'countOrganizationImpacted': {'value': 95},\n     'countFieldsOfScienceImpacted': {'value': 50},\n     'facilityGpuProvided': {'value': 209190.19350866522}},\n    {'key': 'IFAE',\n     'doc_count': 11859,\n     'countProjectsImpacted': {'value': 17},\n     'facilityCpuProvided': {'value': 11247285.173055556},\n     'countOrganizationImpacted': {'value': 13},\n     'countFieldsOfScienceImpacted': {'value': 3},\n     'facilityGpuProvided': {'value': 45228.38155134579}},\n    {'key': 'University of Notre Dame',\n     'doc_count': 11574,\n     'countProjectsImpacted': {'value': 180},\n     'facilityCpuProvided': {'value': 3236430.2575},\n     'countOrganizationImpacted': {'value': 102},\n     'countFieldsOfScienceImpacted': {'value': 56},\n     'facilityGpuProvided': {'value': 120999.48859198914}},\n    {'key': 'University of Chicago',\n     'doc_count': 11558,\n     'countProjectsImpacted': {'value': 185},\n     'facilityCpuProvided': {'value': 7202502.0024999995},\n     'countOrganizationImpacted': {'value': 98},\n     'countFieldsOfScienceImpacted': {'value': 57},\n     'facilityGpuProvided': {'value': 0.0}},\n    {'key': 'University of Michigan',\n     'doc_count': 10616,\n     'countProjectsImpacted': {'value': 119},\n     'facilityCpuProvided': {'value': 2418618.7563888887},\n     'countOrganizationImpacted': {'value': 66},\n     'countFieldsOfScienceImpacted': {'value': 40},\n     'facilityGpuProvided': {'value': 0.0}},\n    {'key': 'Vanderbilt University',\n     'doc_count': 10470,\n     'countProjectsImpacted': {'value': 21},\n     'facilityCpuProvided': {'value': 29134264.820833333},\n     'countOrganizationImpacted': {'value': 17},\n     'countFieldsOfScienceImpacted': {'value': 4},\n     'facilityGpuProvided': {'value': 0.04444444552063942}},\n    {'key': 'American Museum of Natural History',\n     'doc_count': 10237,\n     'countProjectsImpacted': {'value': 125},\n     'facilityCpuProvided': {'value': 2588037.806388889},\n     'countOrganizationImpacted': {'value': 72},\n     'countFieldsOfScienceImpacted': {'value': 47},\n     'facilityGpuProvided': {'value': 2501.521939188532}},\n    {'key': 'INFN-T1',\n     'doc_count': 9755,\n     'countProjectsImpacted': {'value': 21},\n     'facilityCpuProvided': {'value': 43968630.14083333},\n     'countOrganizationImpacted': {'value': 17},\n     'countFieldsOfScienceImpacted': {'value': 5},\n     'facilityGpuProvided': {'value': 0.0}},\n    {'key': 'Massachusetts Institute of Technology',\n     'doc_count': 9398,\n     'countProjectsImpacted': {'value': 22},\n     'facilityCpuProvided': {'value': 48107822.493888885},\n     'countOrganizationImpacted': {'value': 17},\n     'countFieldsOfScienceImpacted': {'value': 4},\n     'facilityGpuProvided': {'value': 0.0}},\n    {'key': 'Brookhaven National Laboratory',\n     'doc_count': 9267,\n     'countProjectsImpacted': {'value': 119},\n     'facilityCpuProvided': {'value': 2877550.8183333334},\n     'countOrganizationImpacted': {'value': 63},\n     'countFieldsOfScienceImpacted': {'value': 40},\n     'facilityGpuProvided': {'value': 0.0}},\n    {'key': 'Universidade Estadual Paulista',\n     'doc_count': 9060,\n     'countProjectsImpacted': {'value': 127},\n     'facilityCpuProvided': {'value': 6150015.490277777},\n     'countOrganizationImpacted': {'value': 75},\n     'countFieldsOfScienceImpacted': {'value': 40},\n     'facilityGpuProvided': {'value': 0.0}},\n    {'key': 'California Institute of Technology',\n     'doc_count': 8578,\n     'countProjectsImpacted': {'value': 20},\n     'facilityCpuProvided': {'value': 32299551.09027778},\n     'countOrganizationImpacted': {'value': 17},\n     'countFieldsOfScienceImpacted': {'value': 4},\n     'facilityGpuProvided': {'value': 0.0}},\n    {'key': 'Lancium',\n     'doc_count': 7118,\n     'countProjectsImpacted': {'value': 110},\n     'facilityCpuProvided': {'value': 30362558.72138889},\n     'countOrganizationImpacted': {'value': 68},\n     'countFieldsOfScienceImpacted': {'value': 44},\n     'facilityGpuProvided': {'value': 3912.7713856946098}},\n    {'key': 'Florida State University',\n     'doc_count': 6984,\n     'countProjectsImpacted': {'value': 122},\n     'facilityCpuProvided': {'value': 1319134.7183333333},\n     'countOrganizationImpacted': {'value': 75},\n     'countFieldsOfScienceImpacted': {'value': 45},\n     'facilityGpuProvided': {'value': 0.0}},\n    {'key': 'Southern Illinois University Edwardsville',\n     'doc_count': 6685,\n     'countProjectsImpacted': {'value': 125},\n     'facilityCpuProvided': {'value': 894963.0333333334},\n     'countOrganizationImpacted': {'value': 73},\n     'countFieldsOfScienceImpacted': {'value': 49},\n     'facilityGpuProvided': {'value': 5338.977519654927}},\n    {'key': 'Georgia Institute of Technology',\n     'doc_count': 6171,\n     'countProjectsImpacted': {'value': 95},\n     'facilityCpuProvided': {'value': 1227940.3475},\n     'countOrganizationImpacted': {'value': 59},\n     'countFieldsOfScienceImpacted': {'value': 39},\n     'facilityGpuProvided': {'value': 85215.81461356024}},\n    {'key': 'University of Texas at Austin',\n     'doc_count': 6156,\n     'countProjectsImpacted': {'value': 86},\n     'facilityCpuProvided': {'value': 51914092.135},\n     'countOrganizationImpacted': {'value': 55},\n     'countFieldsOfScienceImpacted': {'value': 41},\n     'facilityGpuProvided': {'value': 0.0}},\n    {'key': 'Wayne State University',\n     'doc_count': 5961,\n     'countProjectsImpacted': {'value': 110},\n     'facilityCpuProvided': {'value': 361433.0541666667},\n     'countOrganizationImpacted': {'value': 69},\n     'countFieldsOfScienceImpacted': {'value': 45},\n     'facilityGpuProvided': {'value': 9308.017491323066}},\n    {'key': 'University of Puerto Rico - Mayaguez',\n     'doc_count': 5791,\n     'countProjectsImpacted': {'value': 106},\n     'facilityCpuProvided': {'value': 426697.29583333334},\n     'countOrganizationImpacted': {'value': 70},\n     'countFieldsOfScienceImpacted': {'value': 38},\n     'facilityGpuProvided': {'value': 0.0}},\n    {'key': 'University of Florida',\n     'doc_count': 5694,\n     'countProjectsImpacted': {'value': 7},\n     'facilityCpuProvided': {'value': 35603072.20138889},\n     'countOrganizationImpacted': {'value': 5},\n     'countFieldsOfScienceImpacted': {'value': 2},\n     'facilityGpuProvided': {'value': 0.0}},\n    {'key': 'University of Southern California',\n     'doc_count': 5000,\n     'countProjectsImpacted': {'value': 107},\n     'facilityCpuProvided': {'value': 569320.4413888889},\n     'countOrganizationImpacted': {'value': 66},\n     'countFieldsOfScienceImpacted': {'value': 41},\n     'facilityGpuProvided': {'value': 0.0}},\n    {'key': 'Indiana University',\n     'doc_count': 4961,\n     'countProjectsImpacted': {'value': 100},\n     'facilityCpuProvided': {'value': 4320650.174722223},\n     'countOrganizationImpacted': {'value': 58},\n     'countFieldsOfScienceImpacted': {'value': 45},\n     'facilityGpuProvided': {'value': 0.0}},\n    {'key': 'University of Washington',\n     'doc_count': 4632,\n     'countProjectsImpacted': {'value': 100},\n     'facilityCpuProvided': {'value': 1468598.3558333335},\n     'countOrganizationImpacted': {'value': 59},\n     'countFieldsOfScienceImpacted': {'value': 41},\n     'facilityGpuProvided': {'value': 0.0}},\n    {'key': 'University of Alabama',\n     'doc_count': 4504,\n     'countProjectsImpacted': {'value': 96},\n     'facilityCpuProvided': {'value': 871706.99},\n     'countOrganizationImpacted': {'value': 62},\n     'countFieldsOfScienceImpacted': {'value': 39},\n     'facilityGpuProvided': {'value': 0.0}},\n    {'key': 'New Mexico State University',\n     'doc_count': 3709,\n     'countProjectsImpacted': {'value': 108},\n     'facilityCpuProvided': {'value': 1097636.1233333333},\n     'countOrganizationImpacted': {'value': 61},\n     'countFieldsOfScienceImpacted': {'value': 42},\n     'facilityGpuProvided': {'value': 0.0}},\n    {'key': 'West Texas A&M University',\n     'doc_count': 3644,\n     'countProjectsImpacted': {'value': 93},\n     'facilityCpuProvided': {'value': 413281.76722222223},\n     'countOrganizationImpacted': {'value': 59},\n     'countFieldsOfScienceImpacted': {'value': 37},\n     'facilityGpuProvided': {'value': 0.0}},\n    {'key': 'Compute Canada',\n     'doc_count': 3640,\n     'countProjectsImpacted': {'value': 5},\n     'facilityCpuProvided': {'value': 5136134.183333334},\n     'countOrganizationImpacted': {'value': 3},\n     'countFieldsOfScienceImpacted': {'value': 3},\n     'facilityGpuProvided': {'value': 91299.96038947842}},\n    {'key': 'Cinvestav',\n     'doc_count': 2916,\n     'countProjectsImpacted': {'value': 83},\n     'facilityCpuProvided': {'value': 172808.4111111111},\n     'countOrganizationImpacted': {'value': 54},\n     'countFieldsOfScienceImpacted': {'value': 38},\n     'facilityGpuProvided': {'value': 0.0}},\n    {'key': 'JINR',\n     'doc_count': 2895,\n     'countProjectsImpacted': {'value': 2},\n     'facilityCpuProvided': {'value': 590426.9391666666},\n     'countOrganizationImpacted': {'value': 2},\n     'countFieldsOfScienceImpacted': {'value': 1},\n     'facilityGpuProvided': {'value': 0.0}},\n    {'key': 'Lehigh University',\n     'doc_count': 2838,\n     'countProjectsImpacted': {'value': 89},\n     'facilityCpuProvided': {'value': 2005093.8222222223},\n     'countOrganizationImpacted': {'value': 59},\n     'countFieldsOfScienceImpacted': {'value': 39},\n     'facilityGpuProvided': {'value': 0.0}},\n    {'key': 'Cybera',\n     'doc_count': 2510,\n     'countProjectsImpacted': {'value': 80},\n     'facilityCpuProvided': {'value': 83647.06194444445},\n     'countOrganizationImpacted': {'value': 54},\n     'countFieldsOfScienceImpacted': {'value': 35},\n     'facilityGpuProvided': {'value': 0.0}},\n    {'key': 'The College of New Jersey',\n     'doc_count': 2453,\n     'countProjectsImpacted': {'value': 85},\n     'facilityCpuProvided': {'value': 596161.6827777778},\n     'countOrganizationImpacted': {'value': 58},\n     'countFieldsOfScienceImpacted': {'value': 43},\n     'facilityGpuProvided': {'value': 11788.11748271347}},\n    {'key': 'Louisiana State University Health Sciences Center',\n     'doc_count': 2335,\n     'countProjectsImpacted': {'value': 77},\n     'facilityCpuProvided': {'value': 488842.79055555555},\n     'countOrganizationImpacted': {'value': 49},\n     'countFieldsOfScienceImpacted': {'value': 36},\n     'facilityGpuProvided': {'value': 0.0}},\n    {'key': 'University of Colorado Denver',\n     'doc_count': 2309,\n     'countProjectsImpacted': {'value': 77},\n     'facilityCpuProvided': {'value': 803376.1286111111},\n     'countOrganizationImpacted': {'value': 51},\n     'countFieldsOfScienceImpacted': {'value': 35},\n     'facilityGpuProvided': {'value': 0.0}},\n    {'key': 'Universidade do Estado do Rio de Janeiro',\n     'doc_count': 2246,\n     'countProjectsImpacted': {'value': 14},\n     'facilityCpuProvided': {'value': 526988.0186111111},\n     'countOrganizationImpacted': {'value': 12},\n     'countFieldsOfScienceImpacted': {'value': 2},\n     'facilityGpuProvided': {'value': 0.0}},\n    {'key': 'Arizona State University',\n     'doc_count': 2196,\n     'countProjectsImpacted': {'value': 77},\n     'facilityCpuProvided': {'value': 489527.99611111113},\n     'countOrganizationImpacted': {'value': 56},\n     'countFieldsOfScienceImpacted': {'value': 34},\n     'facilityGpuProvided': {'value': 0.0}},\n    {'key': 'Institute of Physics ASCR',\n     'doc_count': 2083,\n     'countProjectsImpacted': {'value': 9},\n     'facilityCpuProvided': {'value': 742321.7875},\n     'countOrganizationImpacted': {'value': 3},\n     'countFieldsOfScienceImpacted': {'value': 2},\n     'facilityGpuProvided': {'value': 0.0}},\n    {'key': 'Louisiana State University',\n     'doc_count': 2004,\n     'countProjectsImpacted': {'value': 15},\n     'facilityCpuProvided': {'value': 801159.3180555556},\n     'countOrganizationImpacted': {'value': 10},\n     'countFieldsOfScienceImpacted': {'value': 12},\n     'facilityGpuProvided': {'value': 64198.7768461145}},\n    {'key': 'National Energy Research Scientific Computing Center',\n     'doc_count': 1976,\n     'countProjectsImpacted': {'value': 3},\n     'facilityCpuProvided': {'value': 27440586.071944445},\n     'countOrganizationImpacted': {'value': 2},\n     'countFieldsOfScienceImpacted': {'value': 2},\n     'facilityGpuProvided': {'value': 886.7333297971636}},\n    {'key': 'Franklin and Marshall College',\n     'doc_count': 1826,\n     'countProjectsImpacted': {'value': 68},\n     'facilityCpuProvided': {'value': 291791.78527777776},\n     'countOrganizationImpacted': {'value': 45},\n     'countFieldsOfScienceImpacted': {'value': 31},\n     'facilityGpuProvided': {'value': 0.0}},\n    {'key': 'Baylor University',\n     'doc_count': 1714,\n     'countProjectsImpacted': {'value': 16},\n     'facilityCpuProvided': {'value': 285370.6983333333},\n     'countOrganizationImpacted': {'value': 14},\n     'countFieldsOfScienceImpacted': {'value': 2},\n     'facilityGpuProvided': {'value': 0.0}},\n    {'key': 'University of Tennessee Chattanooga',\n     'doc_count': 1679,\n     'countProjectsImpacted': {'value': 42},\n     'facilityCpuProvided': {'value': 882121.5008333332},\n     'countOrganizationImpacted': {'value': 35},\n     'countFieldsOfScienceImpacted': {'value': 25},\n     'facilityGpuProvided': {'value': 391.51333414331697}},\n    {'key': 'Lafayette College',\n     'doc_count': 1234,\n     'countProjectsImpacted': {'value': 54},\n     'facilityCpuProvided': {'value': 251108.76333333334},\n     'countOrganizationImpacted': {'value': 39},\n     'countFieldsOfScienceImpacted': {'value': 30},\n     'facilityGpuProvided': {'value': 0.0}},\n    {'key': 'Rutgers University',\n     'doc_count': 1171,\n     'countProjectsImpacted': {'value': 16},\n     'facilityCpuProvided': {'value': 159299.53805555555},\n     'countOrganizationImpacted': {'value': 14},\n     'countFieldsOfScienceImpacted': {'value': 3},\n     'facilityGpuProvided': {'value': 0.0}},\n    {'key': 'University of Mississippi',\n     'doc_count': 1119,\n     'countProjectsImpacted': {'value': 38},\n     'facilityCpuProvided': {'value': 437487.4527777778},\n     'countOrganizationImpacted': {'value': 32},\n     'countFieldsOfScienceImpacted': {'value': 16},\n     'facilityGpuProvided': {'value': 0.0}},\n    {'key': 'Rice University',\n     'doc_count': 1020,\n     'countProjectsImpacted': {'value': 72},\n     'facilityCpuProvided': {'value': 347095.54027777776},\n     'countOrganizationImpacted': {'value': 49},\n     'countFieldsOfScienceImpacted': {'value': 33},\n     'facilityGpuProvided': {'value': 58060.028210584656}},\n    {'key': 'Clarkson University',\n     'doc_count': 958,\n     'countProjectsImpacted': {'value': 34},\n     'facilityCpuProvided': {'value': 430444.8511111111},\n     'countOrganizationImpacted': {'value': 27},\n     'countFieldsOfScienceImpacted': {'value': 21},\n     'facilityGpuProvided': {'value': 0.0}},\n    {'key': 'Villanova University',\n     'doc_count': 937,\n     'countProjectsImpacted': {'value': 35},\n     'facilityCpuProvided': {'value': 1004689.766111111},\n     'countOrganizationImpacted': {'value': 28},\n     'countFieldsOfScienceImpacted': {'value': 22},\n     'facilityGpuProvided': {'value': 0.0}},\n    {'key': 'Old Dominion University',\n     'doc_count': 844,\n     'countProjectsImpacted': {'value': 38},\n     'facilityCpuProvided': {'value': 436907.73583333334},\n     'countOrganizationImpacted': {'value': 25},\n     'countFieldsOfScienceImpacted': {'value': 25},\n     'facilityGpuProvided': {'value': 0.0}},\n    {'key': 'University of Arkansas at Little Rock',\n     'doc_count': 830,\n     'countProjectsImpacted': {'value': 40},\n     'facilityCpuProvided': {'value': 337033.5133333333},\n     'countOrganizationImpacted': {'value': 30},\n     'countFieldsOfScienceImpacted': {'value': 23},\n     'facilityGpuProvided': {'value': 0.0}},\n    {'key': 'University of Maryland',\n     'doc_count': 825,\n     'countProjectsImpacted': {'value': 13},\n     'facilityCpuProvided': {'value': 52244.56250000001},\n     'countOrganizationImpacted': {'value': 12},\n     'countFieldsOfScienceImpacted': {'value': 3},\n     'facilityGpuProvided': {'value': 0.0}},\n    {'key': 'Illinois Institute of Technology',\n     'doc_count': 799,\n     'countProjectsImpacted': {'value': 41},\n     'facilityCpuProvided': {'value': 284626.06333333335},\n     'countOrganizationImpacted': {'value': 34},\n     'countFieldsOfScienceImpacted': {'value': 24},\n     'facilityGpuProvided': {'value': 0.0}},\n    {'key': 'University of Wisconsin Milwaukee',\n     'doc_count': 793,\n     'countProjectsImpacted': {'value': 3},\n     'facilityCpuProvided': {'value': 628617.1322222222},\n     'countOrganizationImpacted': {'value': 1},\n     'countFieldsOfScienceImpacted': {'value': 1},\n     'facilityGpuProvided': {'value': 0.0}},\n    {'key': 'Penn State University',\n     'doc_count': 764,\n     'countProjectsImpacted': {'value': 1},\n     'facilityCpuProvided': {'value': 2279622.698888889},\n     'countOrganizationImpacted': {'value': 1},\n     'countFieldsOfScienceImpacted': {'value': 1},\n     'facilityGpuProvided': {'value': 0.0}},\n    {'key': 'Rhodes College',\n     'doc_count': 670,\n     'countProjectsImpacted': {'value': 35},\n     'facilityCpuProvided': {'value': 537305.1130555556},\n     'countOrganizationImpacted': {'value': 28},\n     'countFieldsOfScienceImpacted': {'value': 22},\n     'facilityGpuProvided': {'value': 0.0}},\n    {'key': 'Pittsburgh Supercomputing Center',\n     'doc_count': 648,\n     'countProjectsImpacted': {'value': 2},\n     'facilityCpuProvided': {'value': 13698515.813333333},\n     'countOrganizationImpacted': {'value': 1},\n     'countFieldsOfScienceImpacted': {'value': 1},\n     'facilityGpuProvided': {'value': 1.9944444298744202}},\n    {'key': 'University of Illinois at Urbana Champaign',\n     'doc_count': 574,\n     'countProjectsImpacted': {'value': 1},\n     'facilityCpuProvided': {'value': 274257.96972222225},\n     'countOrganizationImpacted': {'value': 1},\n     'countFieldsOfScienceImpacted': {'value': 1},\n     'facilityGpuProvided': {'value': 0.0}},\n    {'key': 'Thomas Jefferson National Accelerator Facility',\n     'doc_count': 508,\n     'countProjectsImpacted': {'value': 3},\n     'facilityCpuProvided': {'value': 1200565.1325},\n     'countOrganizationImpacted': {'value': 1},\n     'countFieldsOfScienceImpacted': {'value': 1},\n     'facilityGpuProvided': {'value': 0.0}},\n    {'key': 'Portland State University',\n     'doc_count': 476,\n     'countProjectsImpacted': {'value': 23},\n     'facilityCpuProvided': {'value': 62527.11611111111},\n     'countOrganizationImpacted': {'value': 19},\n     'countFieldsOfScienceImpacted': {'value': 18},\n     'facilityGpuProvided': {'value': 7008.77333047936}},\n    {'key': 'Niels Bohr Institute',\n     'doc_count': 446,\n     'countProjectsImpacted': {'value': 1},\n     'facilityCpuProvided': {'value': 30039.656944444447},\n     'countOrganizationImpacted': {'value': 1},\n     'countFieldsOfScienceImpacted': {'value': 1},\n     'facilityGpuProvided': {'value': 0.0}},\n    {'key': 'University of South Florida',\n     'doc_count': 391,\n     'countProjectsImpacted': {'value': 21},\n     'facilityCpuProvided': {'value': 47341.08222222222},\n     'countOrganizationImpacted': {'value': 17},\n     'countFieldsOfScienceImpacted': {'value': 17},\n     'facilityGpuProvided': {'value': 0.0}},\n    {'key': 'University of California Riverside',\n     'doc_count': 371,\n     'countProjectsImpacted': {'value': 24},\n     'facilityCpuProvided': {'value': 12100.314166666667},\n     'countOrganizationImpacted': {'value': 20},\n     'countFieldsOfScienceImpacted': {'value': 17},\n     'facilityGpuProvided': {'value': 0.0}},\n    {'key': 'Georgia State University',\n     'doc_count': 342,\n     'countProjectsImpacted': {'value': 28},\n     'facilityCpuProvided': {'value': 197851.12027777778},\n     'countOrganizationImpacted': {'value': 21},\n     'countFieldsOfScienceImpacted': {'value': 22},\n     'facilityGpuProvided': {'value': 0.0}},\n    {'key': 'University of Utah',\n     'doc_count': 260,\n     'countProjectsImpacted': {'value': 11},\n     'facilityCpuProvided': {'value': 42567.01694444445},\n     'countOrganizationImpacted': {'value': 10},\n     'countFieldsOfScienceImpacted': {'value': 10},\n     'facilityGpuProvided': {'value': 0.0}},\n    {'key': 'International Centre for Theoretical Sciences',\n     'doc_count': 217,\n     'countProjectsImpacted': {'value': 1},\n     'facilityCpuProvided': {'value': 16668.205833333333},\n     'countOrganizationImpacted': {'value': 1},\n     'countFieldsOfScienceImpacted': {'value': 1},\n     'facilityGpuProvided': {'value': 0.0}},\n    {'key': 'Swinburne University of Technology',\n     'doc_count': 141,\n     'countProjectsImpacted': {'value': 1},\n     'facilityCpuProvided': {'value': 11455.824722222222},\n     'countOrganizationImpacted': {'value': 1},\n     'countFieldsOfScienceImpacted': {'value': 1},\n     'facilityGpuProvided': {'value': 0.0}},\n    {'key': 'Academia Sinica',\n     'doc_count': 137,\n     'countProjectsImpacted': {'value': 2},\n     'facilityCpuProvided': {'value': 15629.703055555556},\n     'countOrganizationImpacted': {'value': 1},\n     'countFieldsOfScienceImpacted': {'value': 1},\n     'facilityGpuProvided': {'value': 0.0}},\n    {'key': 'Tufts University',\n     'doc_count': 127,\n     'countProjectsImpacted': {'value': 5},\n     'facilityCpuProvided': {'value': 843.6805555555555},\n     'countOrganizationImpacted': {'value': 5},\n     'countFieldsOfScienceImpacted': {'value': 5},\n     'facilityGpuProvided': {'value': 429.0808313782803}},\n    {'key': 'Clemson University',\n     'doc_count': 117,\n     'countProjectsImpacted': {'value': 31},\n     'facilityCpuProvided': {'value': 4040.051388888889},\n     'countOrganizationImpacted': {'value': 21},\n     'countFieldsOfScienceImpacted': {'value': 13},\n     'facilityGpuProvided': {'value': 0.0}},\n    {'key': 'University of Oklahoma',\n     'doc_count': 106,\n     'countProjectsImpacted': {'value': 20},\n     'facilityCpuProvided': {'value': 15331.5325},\n     'countOrganizationImpacted': {'value': 16},\n     'countFieldsOfScienceImpacted': {'value': 14},\n     'facilityGpuProvided': {'value': 0.0}},\n    {'key': 'North Carolina State University',\n     'doc_count': 67,\n     'countProjectsImpacted': {'value': 9},\n     'facilityCpuProvided': {'value': 2694.9833333333336},\n     'countOrganizationImpacted': {'value': 9},\n     'countFieldsOfScienceImpacted': {'value': 8},\n     'facilityGpuProvided': {'value': 0.0}},\n    {'key': 'Lamar University',\n     'doc_count': 63,\n     'countProjectsImpacted': {'value': 1},\n     'facilityCpuProvided': {'value': 78152.87944444445},\n     'countOrganizationImpacted': {'value': 1},\n     'countFieldsOfScienceImpacted': {'value': 1},\n     'facilityGpuProvided': {'value': 0.0}},\n    {'key': 'Ohio Supercomputer Center',\n     'doc_count': 37,\n     'countProjectsImpacted': {'value': 1},\n     'facilityCpuProvided': {'value': 1014.8116666666667},\n     'countOrganizationImpacted': {'value': 1},\n     'countFieldsOfScienceImpacted': {'value': 1},\n     'facilityGpuProvided': {'value': 0.0}}]}}}"
     },
     "execution_count": 8,
     "metadata": {},
     "output_type": "execute_result"
    }
   ],
   "source": [
    "SUMMARY_INDEX = \"gracc.osg.summary\"\n",
    "ENDPOINT = \"https://gracc.opensciencegrid.org:443/q\"\n",
    "HEADERS = {'Content-Type': 'application/json'}\n",
    "\n",
    "test_query = {\n",
    "    \"size\": 0,\n",
    "    \"query\": {\n",
    "        \"bool\" : {\n",
    "            \"filter\" : [\n",
    "                { \"term\" : { \"ResourceType\": \"Payload\" }},\n",
    "                { \"range\": {\n",
    "                    \"EndTime\": {\n",
    "                        \"lte\": int(datetime.datetime.now().timestamp()*1000),\n",
    "                        \"gte\": int((datetime.datetime.now() - datetime.timedelta(days=365)).timestamp()*1000)\n",
    "                    }\n",
    "                }}\n",
    "            ]\n",
    "        }\n",
    "    },\n",
    "    \"aggs\": {\n",
    "        \"fieldsOfScience\": {\n",
    "            \"cardinality\": {\n",
    "                \"field\": \"OIM_FieldOfScience\",\n",
    "            },\n",
    "        },\n",
    "        \"jobsRan\": {\n",
    "            \"sum\": {\n",
    "                \"field\": \"Count\",\n",
    "            },\n",
    "        },\n",
    "        \"projects\": {\n",
    "            \"cardinality\": {\n",
    "                \"field\": \"ProjectName\"\n",
    "            }\n",
    "        },\n",
    "        \"facilities\": {\n",
    "            \"terms\": {\n",
    "                \"field\": \"OIM_Facility\",\n",
    "                \"size\": 99999999\n",
    "            },\n",
    "            \"aggs\": {\n",
    "                \"facilityCpuProvided\": {\n",
    "                    \"sum\": {\n",
    "                        \"field\": \"CoreHours\"\n",
    "                    }\n",
    "                },\n",
    "                \"facilityGpuProvided\": {\n",
    "                    \"sum\": {\n",
    "                        \"field\": \"GPUHours\"\n",
    "                    }\n",
    "                },\n",
    "                \"countProjectsImpacted\": {\n",
    "                    \"cardinality\": {\n",
    "                        \"field\": \"ProjectName\"\n",
    "                    }\n",
    "                },\n",
    "                \"countFieldsOfScienceImpacted\": {\n",
    "                    \"cardinality\": {\n",
    "                        \"field\": \"OIM_FieldOfScience\"\n",
    "                    }\n",
    "                },\n",
    "                \"countOrganizationImpacted\": {\n",
    "                    \"cardinality\": {\n",
    "                        \"field\": \"OIM_Organization\"\n",
    "                    }\n",
    "                },\n",
    "                \"gpu_bucket_filter\": {\n",
    "                  \"bucket_selector\": {\n",
    "                    \"buckets_path\": {\n",
    "                      \"totalGPU\": \"facilityGpuProvided\",\n",
    "                      \"totalCPU\": \"facilityCpuProvided\"\n",
    "                    },\n",
    "                    \"script\": \"params.totalGPU > 0 || params.totalCPU > 0\"\n",
    "                  }\n",
    "                },\n",
    "            }\n",
    "        }\n",
    "    }\n",
    "}\n",
    "\n",
    "response_json = requests.get(f\"{ENDPOINT}/{SUMMARY_INDEX}/_search\", data=json.dumps(test_query), headers=HEADERS).json()\n",
    "\n",
    "response_json"
   ],
   "metadata": {
    "collapsed": false,
    "pycharm": {
     "name": "#%%\n"
    }
   }
  },
  {
   "cell_type": "code",
   "execution_count": 11,
   "outputs": [
    {
     "data": {
      "text/plain": "'{\"size\": 0, \"query\": {\"bool\": {\"filter\": [{\"term\": {\"ResourceType\": \"Payload\"}}, {\"range\": {\"EndTime\": {\"lte\": 1667862127510, \"gte\": 1636326127510}}}]}}, \"aggs\": {\"facilities\": {\"terms\": {\"field\": \"OIM_Facility\", \"size\": 99999999}, \"aggs\": {\"facilityCpuProvided\": {\"sum\": {\"field\": \"CoreHours\"}}, \"facilityGpuProvided\": {\"sum\": {\"field\": \"GPUHours\"}}, \"countProjectsImpacted\": {\"cardinality\": {\"field\": \"ProjectName\"}}, \"countFieldsOfScienceImpacted\": {\"cardinality\": {\"field\": \"OIM_FieldOfScience\"}}, \"countOrganizationImpacted\": {\"cardinality\": {\"field\": \"OIM_Organization\"}}, \"gpu_bucket_filter\": {\"bucket_selector\": {\"buckets_path\": {\"totalGPU\": \"facilityGpuProvided\", \"totalCPU\": \"facilityCpuProvided\"}, \"script\": \"params.totalGPU > 0 || params.totalCPU > 0\"}}}}}}'"
     },
     "execution_count": 11,
     "metadata": {},
     "output_type": "execute_result"
    }
   ],
   "source": [
    "json.dumps(test_query)"
   ],
   "metadata": {
    "collapsed": false,
    "pycharm": {
     "name": "#%%\n"
    }
   }
  },
  {
   "cell_type": "code",
   "execution_count": 17,
   "outputs": [],
   "source": [
    "gracc_facility_names = set(x['key'] for x in response_json['aggregations']['facilities']['buckets'])"
   ],
   "metadata": {
    "collapsed": false,
    "pycharm": {
     "name": "#%%\n"
    }
   }
  },
  {
   "cell_type": "code",
   "execution_count": 18,
   "outputs": [],
   "source": [
    "topology_facility_names = json.load(open(\"/Users/clock/Downloads/facility_json.json\")).keys()"
   ],
   "metadata": {
    "collapsed": false,
    "pycharm": {
     "name": "#%%\n"
    }
   }
  },
  {
   "cell_type": "code",
   "execution_count": 19,
   "outputs": [
    {
     "data": {
      "text/plain": "set()"
     },
     "execution_count": 19,
     "metadata": {},
     "output_type": "execute_result"
    }
   ],
   "source": [
    "gracc_facility_names.difference(topology_facility_names)"
   ],
   "metadata": {
    "collapsed": false,
    "pycharm": {
     "name": "#%%\n"
    }
   }
  },
  {
   "cell_type": "code",
   "execution_count": null,
   "outputs": [],
   "source": [],
   "metadata": {
    "collapsed": false,
    "pycharm": {
     "name": "#%%\n"
    }
   }
  }
 ],
 "metadata": {
  "kernelspec": {
   "display_name": "Python 3",
   "language": "python",
   "name": "python3"
  },
  "language_info": {
   "codemirror_mode": {
    "name": "ipython",
    "version": 2
   },
   "file_extension": ".py",
   "mimetype": "text/x-python",
   "name": "python",
   "nbconvert_exporter": "python",
   "pygments_lexer": "ipython2",
   "version": "2.7.6"
  }
 },
 "nbformat": 4,
 "nbformat_minor": 0
}
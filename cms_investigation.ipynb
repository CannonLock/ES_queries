{
 "cells": [
  {
   "cell_type": "code",
   "execution_count": null,
   "outputs": [],
   "source": [
    "from consts import SESSION, ENDPOINT, SUMMARY_INDEX\n",
    "import datetime\n",
    "import json"
   ],
   "metadata": {
    "collapsed": false,
    "pycharm": {
     "name": "#%%\n"
    }
   }
  },
  {
   "cell_type": "code",
   "execution_count": 40,
   "outputs": [
    {
     "ename": "KeyboardInterrupt",
     "evalue": "",
     "output_type": "error",
     "traceback": [
      "\u001B[0;31m---------------------------------------------------------------------------\u001B[0m",
      "\u001B[0;31mKeyboardInterrupt\u001B[0m                         Traceback (most recent call last)",
      "Cell \u001B[0;32mIn [40], line 56\u001B[0m\n\u001B[1;32m     54\u001B[0m response \u001B[38;5;241m=\u001B[39m SESSION\u001B[38;5;241m.\u001B[39mpost(\u001B[38;5;124mf\u001B[39m\u001B[38;5;124m\"\u001B[39m\u001B[38;5;132;01m{\u001B[39;00mENDPOINT\u001B[38;5;132;01m}\u001B[39;00m\u001B[38;5;124m/\u001B[39m\u001B[38;5;132;01m{\u001B[39;00mSUMMARY_INDEX\u001B[38;5;132;01m}\u001B[39;00m\u001B[38;5;124m/_search\u001B[39m\u001B[38;5;124m\"\u001B[39m, data\u001B[38;5;241m=\u001B[39mjson\u001B[38;5;241m.\u001B[39mdumps(ucsd_query))\n\u001B[1;32m     55\u001B[0m response_json \u001B[38;5;241m=\u001B[39m response\u001B[38;5;241m.\u001B[39mjson()\n\u001B[0;32m---> 56\u001B[0m \u001B[43mresponse_json\u001B[49m\n",
      "Cell \u001B[0;32mIn [40], line 56\u001B[0m\n\u001B[1;32m     54\u001B[0m response \u001B[38;5;241m=\u001B[39m SESSION\u001B[38;5;241m.\u001B[39mpost(\u001B[38;5;124mf\u001B[39m\u001B[38;5;124m\"\u001B[39m\u001B[38;5;132;01m{\u001B[39;00mENDPOINT\u001B[38;5;132;01m}\u001B[39;00m\u001B[38;5;124m/\u001B[39m\u001B[38;5;132;01m{\u001B[39;00mSUMMARY_INDEX\u001B[38;5;132;01m}\u001B[39;00m\u001B[38;5;124m/_search\u001B[39m\u001B[38;5;124m\"\u001B[39m, data\u001B[38;5;241m=\u001B[39mjson\u001B[38;5;241m.\u001B[39mdumps(ucsd_query))\n\u001B[1;32m     55\u001B[0m response_json \u001B[38;5;241m=\u001B[39m response\u001B[38;5;241m.\u001B[39mjson()\n\u001B[0;32m---> 56\u001B[0m \u001B[43mresponse_json\u001B[49m\n",
      "File \u001B[0;32m_pydevd_bundle/pydevd_cython_darwin_39_64.pyx:1179\u001B[0m, in \u001B[0;36m_pydevd_bundle.pydevd_cython_darwin_39_64.SafeCallWrapper.__call__\u001B[0;34m()\u001B[0m\n",
      "File \u001B[0;32m_pydevd_bundle/pydevd_cython_darwin_39_64.pyx:620\u001B[0m, in \u001B[0;36m_pydevd_bundle.pydevd_cython_darwin_39_64.PyDBFrame.trace_dispatch\u001B[0;34m()\u001B[0m\n",
      "File \u001B[0;32m_pydevd_bundle/pydevd_cython_darwin_39_64.pyx:929\u001B[0m, in \u001B[0;36m_pydevd_bundle.pydevd_cython_darwin_39_64.PyDBFrame.trace_dispatch\u001B[0;34m()\u001B[0m\n",
      "File \u001B[0;32m_pydevd_bundle/pydevd_cython_darwin_39_64.pyx:920\u001B[0m, in \u001B[0;36m_pydevd_bundle.pydevd_cython_darwin_39_64.PyDBFrame.trace_dispatch\u001B[0;34m()\u001B[0m\n",
      "File \u001B[0;32m_pydevd_bundle/pydevd_cython_darwin_39_64.pyx:317\u001B[0m, in \u001B[0;36m_pydevd_bundle.pydevd_cython_darwin_39_64.PyDBFrame.do_wait_suspend\u001B[0;34m()\u001B[0m\n",
      "File \u001B[0;32m/Applications/PyCharm.app/Contents/plugins/python/helpers/pydev/pydevd.py:1155\u001B[0m, in \u001B[0;36mPyDB.do_wait_suspend\u001B[0;34m(self, thread, frame, event, arg, send_suspend_message, is_unhandled_exception)\u001B[0m\n\u001B[1;32m   1152\u001B[0m         from_this_thread\u001B[38;5;241m.\u001B[39mappend(frame_id)\n\u001B[1;32m   1154\u001B[0m \u001B[38;5;28;01mwith\u001B[39;00m \u001B[38;5;28mself\u001B[39m\u001B[38;5;241m.\u001B[39m_threads_suspended_single_notification\u001B[38;5;241m.\u001B[39mnotify_thread_suspended(thread_id, stop_reason):\n\u001B[0;32m-> 1155\u001B[0m     \u001B[38;5;28;43mself\u001B[39;49m\u001B[38;5;241;43m.\u001B[39;49m\u001B[43m_do_wait_suspend\u001B[49m\u001B[43m(\u001B[49m\u001B[43mthread\u001B[49m\u001B[43m,\u001B[49m\u001B[43m \u001B[49m\u001B[43mframe\u001B[49m\u001B[43m,\u001B[49m\u001B[43m \u001B[49m\u001B[43mevent\u001B[49m\u001B[43m,\u001B[49m\u001B[43m \u001B[49m\u001B[43marg\u001B[49m\u001B[43m,\u001B[49m\u001B[43m \u001B[49m\u001B[43msuspend_type\u001B[49m\u001B[43m,\u001B[49m\u001B[43m \u001B[49m\u001B[43mfrom_this_thread\u001B[49m\u001B[43m)\u001B[49m\n",
      "File \u001B[0;32m/Applications/PyCharm.app/Contents/plugins/python/helpers/pydev/pydevd.py:1170\u001B[0m, in \u001B[0;36mPyDB._do_wait_suspend\u001B[0;34m(self, thread, frame, event, arg, suspend_type, from_this_thread)\u001B[0m\n\u001B[1;32m   1167\u001B[0m             \u001B[38;5;28mself\u001B[39m\u001B[38;5;241m.\u001B[39m_call_mpl_hook()\n\u001B[1;32m   1169\u001B[0m         \u001B[38;5;28mself\u001B[39m\u001B[38;5;241m.\u001B[39mprocess_internal_commands()\n\u001B[0;32m-> 1170\u001B[0m         \u001B[43mtime\u001B[49m\u001B[38;5;241;43m.\u001B[39;49m\u001B[43msleep\u001B[49m\u001B[43m(\u001B[49m\u001B[38;5;241;43m0.01\u001B[39;49m\u001B[43m)\u001B[49m\n\u001B[1;32m   1172\u001B[0m \u001B[38;5;28mself\u001B[39m\u001B[38;5;241m.\u001B[39mcancel_async_evaluation(get_current_thread_id(thread), \u001B[38;5;28mstr\u001B[39m(\u001B[38;5;28mid\u001B[39m(frame)))\n\u001B[1;32m   1174\u001B[0m \u001B[38;5;66;03m# process any stepping instructions\u001B[39;00m\n",
      "\u001B[0;31mKeyboardInterrupt\u001B[0m: "
     ]
    }
   ],
   "source": [
    "ucsd_query = {\n",
    "    \"size\": 0,\n",
    "    \"query\": {\n",
    "        \"bool\" : {\n",
    "            \"filter\" : [\n",
    "                { \"term\" : { \"OIM_Facility\": 'University of California San Diego'}},\n",
    "                { \"range\": {\n",
    "                    \"EndTime\": {\n",
    "                        \"lte\": int(datetime.datetime.now().timestamp()*1000),\n",
    "                        \"gte\": int((datetime.datetime.now() - datetime.timedelta(days=365)).timestamp()*1000)\n",
    "                    }\n",
    "                }}\n",
    "            ],\n",
    "        },\n",
    "    },\n",
    "    \"aggs\": {\n",
    "        \"ProjectName\": {\n",
    "            \"terms\": {\n",
    "                \"field\": \"ProjectName\",\n",
    "                \"size\": 99999999\n",
    "            },\n",
    "            \"aggs\": {\n",
    "                \"ResourceType\": {\n",
    "                    \"terms\": {\n",
    "                        \"field\": \"ResourceType\",\n",
    "                        \"size\": 99999999\n",
    "                    },\n",
    "                    \"aggs\": {\n",
    "                        \"projectCpu\": {\n",
    "                            \"sum\": {\n",
    "                                \"field\": \"CoreHours\"\n",
    "                            }\n",
    "                        },\n",
    "                        \"projectGpu\": {\n",
    "                            \"sum\": {\n",
    "                                \"field\": \"GPUHours\"\n",
    "                            }\n",
    "                        }\n",
    "                    }\n",
    "                }\n",
    "            }\n",
    "        }\n",
    "    }\n",
    "}\n",
    "\n",
    "response = SESSION.post(f\"{ENDPOINT}/{SUMMARY_INDEX}/_search\", data=json.dumps(ucsd_query))\n",
    "response_json = response.json()\n",
    "response_json"
   ],
   "metadata": {
    "collapsed": false,
    "pycharm": {
     "name": "#%%\n"
    }
   }
  },
  {
   "cell_type": "code",
   "execution_count": 43,
   "outputs": [
    {
     "data": {
      "text/plain": "{'took': 7,\n 'timed_out': False,\n '_shards': {'total': 19, 'successful': 19, 'skipped': 0, 'failed': 0},\n 'hits': {'total': {'value': 10000, 'relation': 'gte'},\n  'max_score': 0.0,\n  'hits': [{'_index': 'gracc.osg.summary4-2021',\n    '_type': '_doc',\n    '_id': 'b6f06c898a57331fc4244a7de112b524',\n    '_score': 0.0,\n    '_source': {'DN': '/DC=ch/DC=cern/OU=Organic Units/OU=Users/CN=amaltaro/CN=718748/CN=Alan Malta Rodrigues',\n     'ResourceType': 'Payload',\n     'ProjectName': 'cms',\n     'RawOIM_Site': '',\n     'GPUHours': 0.0,\n     'Resource_ExitCode': 0,\n     'GPUs': '0',\n     'WallDuration': 591912.0,\n     'RawProjectName': 'N/A',\n     'type': 'JobUsageRecordSummary',\n     'ProbeName': 'condor:cmsgwms-submit8.fnal.gov',\n     'Grid': 'OSG',\n     '@timestamp': '2021-12-22T00:00:00.000Z',\n     'VOName': 'cms',\n     'EndTime': '2021-12-22T00:00:00.000Z',\n     'Host_description': 'Hephy-Vienna',\n     'ReportableVOName': 'cms',\n     'CpuDuration_system': 6359.0,\n     'OIM_Site': 'Hephy-Vienna',\n     'RawVOName': '/cms/Role=production/Capability=NULL',\n     'Processors': 1,\n     'Njobs': 46.0,\n     'SiteName': 'HEPC',\n     'CoreHours': 164.42,\n     '@version': '1',\n     'Count': 46,\n     'CpuDuration': 490668.0,\n     '@received': '2022-12-05T00:51:23.923Z',\n     'checksum': 'b6f06c898a57331fc4244a7de112b524',\n     'CommonName': 'N/A',\n     'RawCorrectedReportableVOName': '',\n     'CpuDuration_user': 484309.0}}]}}"
     },
     "execution_count": 43,
     "metadata": {},
     "output_type": "execute_result"
    }
   ],
   "source": [
    "cms_query = {\n",
    "    \"size\": 1,\n",
    "    \"query\": {\n",
    "        \"bool\" : {\n",
    "            \"filter\" : [\n",
    "                { \"term\" : { \"ResourceType\": \"Payload\" }},\n",
    "                { \"term\" : { \"ProjectName\": \"cms\" }},\n",
    "                { \"range\": {\n",
    "                    \"EndTime\": {\n",
    "                        \"lte\": int(datetime.datetime.now().timestamp()*1000),\n",
    "                        \"gte\": int((datetime.datetime.now() - datetime.timedelta(days=365)).timestamp()*1000)\n",
    "                    }\n",
    "                }}\n",
    "            ],\n",
    "        },\n",
    "    }\n",
    "\n",
    "}\n",
    "\n",
    "response = SESSION.post(f\"{ENDPOINT}/{SUMMARY_INDEX}/_search\", data=json.dumps(cms_query))\n",
    "response_json = response.json()\n",
    "response_json"
   ],
   "metadata": {
    "collapsed": false,
    "pycharm": {
     "name": "#%%\n"
    }
   }
  },
  {
   "cell_type": "code",
   "execution_count": 32,
   "outputs": [
    {
     "data": {
      "text/plain": "{'took': 15,\n 'timed_out': False,\n '_shards': {'total': 19, 'successful': 19, 'skipped': 0, 'failed': 0},\n 'hits': {'total': {'value': 10000, 'relation': 'gte'},\n  'max_score': None,\n  'hits': []},\n 'aggregations': {'FOS': {'doc_count_error_upper_bound': 0,\n   'sum_other_doc_count': 0,\n   'buckets': [{'key': 'High Energy Physics',\n     'doc_count': 74129,\n     'projectGpu': {'value': 2725307.0735859256},\n     'projectCpu': {'value': 1144512651.8475}}]}}}"
     },
     "execution_count": 32,
     "metadata": {},
     "output_type": "execute_result"
    }
   ],
   "source": [
    "fos_cms_query = {\n",
    "    \"size\": 0,\n",
    "    \"query\": {\n",
    "        \"bool\" : {\n",
    "            \"filter\" : [\n",
    "                { \"term\" : { \"ProjectName\": \"cms\" }},\n",
    "                { \"range\": {\n",
    "                    \"EndTime\": {\n",
    "                        \"lte\": int(datetime.datetime.now().timestamp()*1000),\n",
    "                        \"gte\": int((datetime.datetime.now() - datetime.timedelta(days=365)).timestamp()*1000)\n",
    "                    }\n",
    "                }}\n",
    "            ],\n",
    "        },\n",
    "    },\n",
    "    \"aggs\": {\n",
    "        \"FOS\" : {\n",
    "            \"terms\": {\n",
    "                \"field\": \"OIM_FieldOfScience\",\n",
    "                \"size\" : 99999999,\n",
    "            }\n",
    "        }\n",
    "    }\n",
    "}\n",
    "\n",
    "response = SESSION.post(f\"{ENDPOINT}/{SUMMARY_INDEX}/_search\", data=json.dumps(fos_cms_query))\n",
    "response_json = response.json()\n",
    "response_json"
   ],
   "metadata": {
    "collapsed": false,
    "pycharm": {
     "name": "#%%\n"
    }
   }
  },
  {
   "cell_type": "code",
   "execution_count": null,
   "outputs": [],
   "source": [],
   "metadata": {
    "collapsed": false,
    "pycharm": {
     "name": "#%%\n"
    }
   }
  }
 ],
 "metadata": {
  "kernelspec": {
   "display_name": "Python 3",
   "language": "python",
   "name": "python3"
  },
  "language_info": {
   "codemirror_mode": {
    "name": "ipython",
    "version": 2
   },
   "file_extension": ".py",
   "mimetype": "text/x-python",
   "name": "python",
   "nbconvert_exporter": "python",
   "pygments_lexer": "ipython2",
   "version": "2.7.6"
  }
 },
 "nbformat": 4,
 "nbformat_minor": 0
}
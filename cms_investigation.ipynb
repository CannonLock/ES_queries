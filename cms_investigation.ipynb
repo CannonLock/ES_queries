{
 "cells": [
  {
   "cell_type": "code",
   "execution_count": 1,
   "metadata": {
    "pycharm": {
     "name": "#%%\n"
    }
   },
   "outputs": [
    {
     "ename": "NameError",
     "evalue": "name 'requests' is not defined",
     "output_type": "error",
     "traceback": [
      "\u001B[0;31m---------------------------------------------------------------------------\u001B[0m",
      "\u001B[0;31mNameError\u001B[0m                                 Traceback (most recent call last)",
      "Cell \u001B[0;32mIn [1], line 1\u001B[0m\n\u001B[0;32m----> 1\u001B[0m \u001B[38;5;28;01mfrom\u001B[39;00m \u001B[38;5;21;01mconsts\u001B[39;00m \u001B[38;5;28;01mimport\u001B[39;00m SESSION, ENDPOINT, SUMMARY_INDEX\n\u001B[1;32m      2\u001B[0m \u001B[38;5;28;01mimport\u001B[39;00m \u001B[38;5;21;01mdatetime\u001B[39;00m\n\u001B[1;32m      3\u001B[0m \u001B[38;5;28;01mimport\u001B[39;00m \u001B[38;5;21;01mjson\u001B[39;00m\n",
      "File \u001B[0;32m~/PycharmProjects/ES_queries/consts.py:9\u001B[0m\n\u001B[1;32m      2\u001B[0m ENDPOINT \u001B[38;5;241m=\u001B[39m \u001B[38;5;124m\"\u001B[39m\u001B[38;5;124mhttps://gracc.opensciencegrid.org:443/q\u001B[39m\u001B[38;5;124m\"\u001B[39m\n\u001B[1;32m      3\u001B[0m HEADERS \u001B[38;5;241m=\u001B[39m {\n\u001B[1;32m      4\u001B[0m     \u001B[38;5;124m'\u001B[39m\u001B[38;5;124mContent-Type\u001B[39m\u001B[38;5;124m'\u001B[39m: \u001B[38;5;124m'\u001B[39m\u001B[38;5;124mapplication/json\u001B[39m\u001B[38;5;124m'\u001B[39m,\n\u001B[1;32m      5\u001B[0m     \u001B[38;5;124m'\u001B[39m\u001B[38;5;124mauthority\u001B[39m\u001B[38;5;124m'\u001B[39m: \u001B[38;5;124m'\u001B[39m\u001B[38;5;124mgracc.opensciencegrid.org\u001B[39m\u001B[38;5;124m'\u001B[39m,\n\u001B[1;32m      6\u001B[0m     \u001B[38;5;124m'\u001B[39m\u001B[38;5;124maccept\u001B[39m\u001B[38;5;124m'\u001B[39m: \u001B[38;5;124m'\u001B[39m\u001B[38;5;124mtext/html,application/xhtml+xml,application/xml;q=0.9,image/avif,image/webp,image/apng,*/*;q=0.8,application/signed-exchange;v=b3;q=0.9\u001B[39m\u001B[38;5;124m'\u001B[39m,\n\u001B[1;32m      7\u001B[0m     \u001B[38;5;124m'\u001B[39m\u001B[38;5;124maccept-language\u001B[39m\u001B[38;5;124m'\u001B[39m: \u001B[38;5;124m'\u001B[39m\u001B[38;5;124men-US,en;q=0.9\u001B[39m\u001B[38;5;124m'\u001B[39m\n\u001B[1;32m      8\u001B[0m }\n\u001B[0;32m----> 9\u001B[0m SESSION \u001B[38;5;241m=\u001B[39m \u001B[43mrequests\u001B[49m\u001B[38;5;241m.\u001B[39mSession()\n\u001B[1;32m     10\u001B[0m SESSION\u001B[38;5;241m.\u001B[39mheaders\u001B[38;5;241m.\u001B[39mupdate(HEADERS)\n",
      "\u001B[0;31mNameError\u001B[0m: name 'requests' is not defined"
     ]
    }
   ],
   "source": [
    "from consts import SESSION, ENDPOINT, SUMMARY_INDEX\n",
    "import datetime\n",
    "import json"
   ]
  },
  {
   "cell_type": "code",
   "execution_count": null,
   "metadata": {
    "pycharm": {
     "name": "#%%\n"
    }
   },
   "outputs": [],
   "source": [
    "ucsd_query = {\n",
    "    \"size\": 0,\n",
    "    \"query\": {\n",
    "        \"bool\" : {\n",
    "            \"filter\" : [\n",
    "                { \"term\" : { \"OIM_Facility\": 'University of California San Diego'}},\n",
    "                { \"range\": {\n",
    "                    \"EndTime\": {\n",
    "                        \"lte\": int(datetime.datetime.now().timestamp()*1000),\n",
    "                        \"gte\": int((datetime.datetime.now() - datetime.timedelta(days=365)).timestamp()*1000)\n",
    "                    }\n",
    "                }}\n",
    "            ],\n",
    "        },\n",
    "    },\n",
    "    \"aggs\": {\n",
    "        \"ProjectName\": {\n",
    "            \"terms\": {\n",
    "                \"field\": \"ProjectName\",\n",
    "                \"size\": 99999999\n",
    "            },\n",
    "            \"aggs\": {\n",
    "                \"ResourceType\": {\n",
    "                    \"terms\": {\n",
    "                        \"field\": \"ResourceType\",\n",
    "                        \"size\": 99999999\n",
    "                    },\n",
    "                    \"aggs\": {\n",
    "                        \"projectCpu\": {\n",
    "                            \"sum\": {\n",
    "                                \"field\": \"CoreHours\"\n",
    "                            }\n",
    "                        },\n",
    "                        \"projectGpu\": {\n",
    "                            \"sum\": {\n",
    "                                \"field\": \"GPUHours\"\n",
    "                            }\n",
    "                        }\n",
    "                    }\n",
    "                }\n",
    "            }\n",
    "        }\n",
    "    }\n",
    "}\n",
    "\n",
    "response = SESSION.post(f\"{ENDPOINT}/{SUMMARY_INDEX}/_search\", data=json.dumps(ucsd_query))\n",
    "response_json = response.json()\n",
    "response_json"
   ]
  },
  {
   "cell_type": "code",
   "execution_count": null,
   "metadata": {
    "pycharm": {
     "name": "#%%\n"
    }
   },
   "outputs": [],
   "source": [
    "cms_query = {\n",
    "    \"size\": 1,\n",
    "    \"query\": {\n",
    "        \"bool\" : {\n",
    "            \"filter\" : [\n",
    "                { \"term\" : { \"ResourceType\": \"Payload\" }},\n",
    "                { \"term\" : { \"ProjectName\": \"cms\" }},\n",
    "                { \"range\": {\n",
    "                    \"EndTime\": {\n",
    "                        \"lte\": int(datetime.datetime.now().timestamp()*1000),\n",
    "                        \"gte\": int((datetime.datetime.now() - datetime.timedelta(days=365)).timestamp()*1000)\n",
    "                    }\n",
    "                }}\n",
    "            ],\n",
    "        },\n",
    "    }\n",
    "\n",
    "}\n",
    "\n",
    "response = SESSION.post(f\"{ENDPOINT}/{SUMMARY_INDEX}/_search\", data=json.dumps(cms_query))\n",
    "response_json = response.json()\n",
    "response_json"
   ]
  },
  {
   "cell_type": "code",
   "execution_count": 63,
   "outputs": [
    {
     "data": {
      "text/plain": "{'took': 6,\n 'timed_out': False,\n '_shards': {'total': 19, 'successful': 19, 'skipped': 0, 'failed': 0},\n 'hits': {'total': {'value': 10000, 'relation': 'gte'},\n  'max_score': 0.0,\n  'hits': [{'_index': 'gracc.osg.summary4-2021',\n    '_type': '_doc',\n    '_id': 'fe554efc1ed553045025930ad01628ab',\n    '_score': 0.0,\n    '_source': {'ProbeName': 'slurm:hammer-osg.rcac.purdue.edu',\n     'CpuDuration_system': 13.31,\n     'OIM_ID': '698',\n     'OIM_NSFFieldOfScience': 'Physics',\n     'VOName': 'cms',\n     'OIM_Site': 'Purdue CMS',\n     'checksum': 'fe554efc1ed553045025930ad01628ab',\n     'CpuDuration_user': 30.339999999,\n     '@version': '1',\n     'Host_description': 'N/A',\n     'OIM_FieldOfScience': 'High Energy Physics',\n     'OIM_UsageModel': 'DEDICATED',\n     'OIM_WLCGAccountingName': 'T2_US_Purdue',\n     '@received': '2021-12-07T19:48:02.526Z',\n     'OIM_ResourceGroup': 'Purdue',\n     'SiteName': 'Purdue-Hammer',\n     'GPUs': '0',\n     'WallDuration': 516.0,\n     'RawCorrectedReportableVOName': '',\n     'ProjectName': 'cms',\n     'OIM_WLCGAPELNormalizedCpuDuration': 657.8054999849301,\n     'CoreHours': 0.2866666666666667,\n     'OIM_Match': 'ProbeName-FQDN',\n     'OIM_FQDN': 'hammer-osg.rcac.purdue.edu',\n     'DN': '/DC=ch/DC=cern/OU=Organic Units/OU=Users/CN=sciaba/CN=430796/CN=Andrea Sciaba',\n     'Resource_ExitCode': 0,\n     'ResourceType': 'Batch',\n     'Processors': 2,\n     'OIM_Resource': 'Purdue-Hammer-CE',\n     'Grid': 'Local',\n     'OIM_Facility': 'Purdue University',\n     '@timestamp': '2021-12-07T00:00:00.000Z',\n     'EndTime': '2021-12-07T00:00:00.000Z',\n     'RawProjectName': 'cms',\n     'type': 'JobUsageRecordSummary',\n     'RawVOName': '/cms/Role=lcgadmin/Capability=NULL',\n     'OIM_WLCGAPELNormalFactor': 15.07,\n     'ReportableVOName': 'cms',\n     'CpuDuration': 43.649999999,\n     'RawOIM_Site': '',\n     'OIM_WLCGAPELNormalizedWallDuration': 15552.24,\n     'Njobs': 1.0,\n     'CommonName': 'N/A',\n     'Count': 1}}]}}"
     },
     "execution_count": 63,
     "metadata": {},
     "output_type": "execute_result"
    }
   ],
   "source": [
    "cms_query = {\n",
    "    \"size\": 1,\n",
    "    \"query\": {\n",
    "        \"bool\" : {\n",
    "            \"filter\" : [\n",
    "                { \"term\" : { \"ResourceType\": \"Batch\" }},\n",
    "                { \"term\" : { \"ProjectName\": \"cms\" }},\n",
    "                { \"range\": {\n",
    "                    \"EndTime\": {\n",
    "                        \"lte\": int(datetime.datetime.now().timestamp()*1000),\n",
    "                        \"gte\": int((datetime.datetime.now() - datetime.timedelta(days=365)).timestamp()*1000)\n",
    "                    }\n",
    "                }}\n",
    "            ],\n",
    "        },\n",
    "    }\n",
    "\n",
    "}\n",
    "\n",
    "response = SESSION.post(f\"{ENDPOINT}/{SUMMARY_INDEX}/_search\", data=json.dumps(cms_query))\n",
    "response_json = response.json()\n",
    "response_json"
   ],
   "metadata": {
    "collapsed": false,
    "pycharm": {
     "name": "#%%\n"
    }
   }
  },
  {
   "cell_type": "code",
   "execution_count": 2,
   "outputs": [
    {
     "ename": "NameError",
     "evalue": "name 'datetime' is not defined",
     "output_type": "error",
     "traceback": [
      "\u001B[0;31m---------------------------------------------------------------------------\u001B[0m",
      "\u001B[0;31mNameError\u001B[0m                                 Traceback (most recent call last)",
      "Cell \u001B[0;32mIn [2], line 9\u001B[0m\n\u001B[1;32m      1\u001B[0m fos_cms_query \u001B[38;5;241m=\u001B[39m {\n\u001B[1;32m      2\u001B[0m     \u001B[38;5;124m\"\u001B[39m\u001B[38;5;124msize\u001B[39m\u001B[38;5;124m\"\u001B[39m: \u001B[38;5;241m0\u001B[39m,\n\u001B[1;32m      3\u001B[0m     \u001B[38;5;124m\"\u001B[39m\u001B[38;5;124mquery\u001B[39m\u001B[38;5;124m\"\u001B[39m: {\n\u001B[1;32m      4\u001B[0m         \u001B[38;5;124m\"\u001B[39m\u001B[38;5;124mbool\u001B[39m\u001B[38;5;124m\"\u001B[39m : {\n\u001B[1;32m      5\u001B[0m             \u001B[38;5;124m\"\u001B[39m\u001B[38;5;124mfilter\u001B[39m\u001B[38;5;124m\"\u001B[39m : [\n\u001B[1;32m      6\u001B[0m                 { \u001B[38;5;124m\"\u001B[39m\u001B[38;5;124mterm\u001B[39m\u001B[38;5;124m\"\u001B[39m : { \u001B[38;5;124m\"\u001B[39m\u001B[38;5;124mProjectName\u001B[39m\u001B[38;5;124m\"\u001B[39m: \u001B[38;5;124m\"\u001B[39m\u001B[38;5;124mcms\u001B[39m\u001B[38;5;124m\"\u001B[39m }},\n\u001B[1;32m      7\u001B[0m                 { \u001B[38;5;124m\"\u001B[39m\u001B[38;5;124mrange\u001B[39m\u001B[38;5;124m\"\u001B[39m: {\n\u001B[1;32m      8\u001B[0m                     \u001B[38;5;124m\"\u001B[39m\u001B[38;5;124mEndTime\u001B[39m\u001B[38;5;124m\"\u001B[39m: {\n\u001B[0;32m----> 9\u001B[0m                         \u001B[38;5;124m\"\u001B[39m\u001B[38;5;124mlte\u001B[39m\u001B[38;5;124m\"\u001B[39m: \u001B[38;5;28mint\u001B[39m(\u001B[43mdatetime\u001B[49m\u001B[38;5;241m.\u001B[39mdatetime\u001B[38;5;241m.\u001B[39mnow()\u001B[38;5;241m.\u001B[39mtimestamp()\u001B[38;5;241m*\u001B[39m\u001B[38;5;241m1000\u001B[39m),\n\u001B[1;32m     10\u001B[0m                         \u001B[38;5;124m\"\u001B[39m\u001B[38;5;124mgte\u001B[39m\u001B[38;5;124m\"\u001B[39m: \u001B[38;5;28mint\u001B[39m((datetime\u001B[38;5;241m.\u001B[39mdatetime\u001B[38;5;241m.\u001B[39mnow() \u001B[38;5;241m-\u001B[39m datetime\u001B[38;5;241m.\u001B[39mtimedelta(days\u001B[38;5;241m=\u001B[39m\u001B[38;5;241m365\u001B[39m))\u001B[38;5;241m.\u001B[39mtimestamp()\u001B[38;5;241m*\u001B[39m\u001B[38;5;241m1000\u001B[39m)\n\u001B[1;32m     11\u001B[0m                     }\n\u001B[1;32m     12\u001B[0m                 }}\n\u001B[1;32m     13\u001B[0m             ],\n\u001B[1;32m     14\u001B[0m         },\n\u001B[1;32m     15\u001B[0m     },\n\u001B[1;32m     16\u001B[0m     \u001B[38;5;124m\"\u001B[39m\u001B[38;5;124maggs\u001B[39m\u001B[38;5;124m\"\u001B[39m: {\n\u001B[1;32m     17\u001B[0m         \u001B[38;5;124m\"\u001B[39m\u001B[38;5;124mFOS\u001B[39m\u001B[38;5;124m\"\u001B[39m : {\n\u001B[1;32m     18\u001B[0m             \u001B[38;5;124m\"\u001B[39m\u001B[38;5;124mterms\u001B[39m\u001B[38;5;124m\"\u001B[39m: {\n\u001B[1;32m     19\u001B[0m                 \u001B[38;5;124m\"\u001B[39m\u001B[38;5;124mfield\u001B[39m\u001B[38;5;124m\"\u001B[39m: \u001B[38;5;124m\"\u001B[39m\u001B[38;5;124mOIM_FieldOfScience\u001B[39m\u001B[38;5;124m\"\u001B[39m,\n\u001B[1;32m     20\u001B[0m                 \u001B[38;5;124m\"\u001B[39m\u001B[38;5;124msize\u001B[39m\u001B[38;5;124m\"\u001B[39m : \u001B[38;5;241m99999999\u001B[39m,\n\u001B[1;32m     21\u001B[0m             },\n\u001B[1;32m     22\u001B[0m             \u001B[38;5;124m\"\u001B[39m\u001B[38;5;124maggs\u001B[39m\u001B[38;5;124m\"\u001B[39m: {\n\u001B[1;32m     23\u001B[0m                 \u001B[38;5;124m\"\u001B[39m\u001B[38;5;124mResourceType\u001B[39m\u001B[38;5;124m\"\u001B[39m: {\n\u001B[1;32m     24\u001B[0m                     \u001B[38;5;124m\"\u001B[39m\u001B[38;5;124mterms\u001B[39m\u001B[38;5;124m\"\u001B[39m: {\n\u001B[1;32m     25\u001B[0m                         \u001B[38;5;124m\"\u001B[39m\u001B[38;5;124mfield\u001B[39m\u001B[38;5;124m\"\u001B[39m: \u001B[38;5;124m\"\u001B[39m\u001B[38;5;124mResourceType\u001B[39m\u001B[38;5;124m\"\u001B[39m,\n\u001B[1;32m     26\u001B[0m                         \u001B[38;5;124m\"\u001B[39m\u001B[38;5;124msize\u001B[39m\u001B[38;5;124m\"\u001B[39m: \u001B[38;5;241m99999999\u001B[39m\n\u001B[1;32m     27\u001B[0m                     },\n\u001B[1;32m     28\u001B[0m                     \u001B[38;5;124m\"\u001B[39m\u001B[38;5;124maggs\u001B[39m\u001B[38;5;124m\"\u001B[39m: {\n\u001B[1;32m     29\u001B[0m                         \u001B[38;5;124m\"\u001B[39m\u001B[38;5;124mprojectCpu\u001B[39m\u001B[38;5;124m\"\u001B[39m: {\n\u001B[1;32m     30\u001B[0m                             \u001B[38;5;124m\"\u001B[39m\u001B[38;5;124msum\u001B[39m\u001B[38;5;124m\"\u001B[39m: {\n\u001B[1;32m     31\u001B[0m                                 \u001B[38;5;124m\"\u001B[39m\u001B[38;5;124mfield\u001B[39m\u001B[38;5;124m\"\u001B[39m: \u001B[38;5;124m\"\u001B[39m\u001B[38;5;124mCoreHours\u001B[39m\u001B[38;5;124m\"\u001B[39m\n\u001B[1;32m     32\u001B[0m                             }\n\u001B[1;32m     33\u001B[0m                         },\n\u001B[1;32m     34\u001B[0m                         \u001B[38;5;124m\"\u001B[39m\u001B[38;5;124mprojectGpu\u001B[39m\u001B[38;5;124m\"\u001B[39m: {\n\u001B[1;32m     35\u001B[0m                             \u001B[38;5;124m\"\u001B[39m\u001B[38;5;124msum\u001B[39m\u001B[38;5;124m\"\u001B[39m: {\n\u001B[1;32m     36\u001B[0m                                 \u001B[38;5;124m\"\u001B[39m\u001B[38;5;124mfield\u001B[39m\u001B[38;5;124m\"\u001B[39m: \u001B[38;5;124m\"\u001B[39m\u001B[38;5;124mGPUHours\u001B[39m\u001B[38;5;124m\"\u001B[39m\n\u001B[1;32m     37\u001B[0m                             }\n\u001B[1;32m     38\u001B[0m                         }\n\u001B[1;32m     39\u001B[0m                     }\n\u001B[1;32m     40\u001B[0m                 }\n\u001B[1;32m     41\u001B[0m             }\n\u001B[1;32m     42\u001B[0m         }\n\u001B[1;32m     43\u001B[0m     }\n\u001B[1;32m     44\u001B[0m }\n\u001B[1;32m     46\u001B[0m response \u001B[38;5;241m=\u001B[39m SESSION\u001B[38;5;241m.\u001B[39mpost(\u001B[38;5;124mf\u001B[39m\u001B[38;5;124m\"\u001B[39m\u001B[38;5;132;01m{\u001B[39;00mENDPOINT\u001B[38;5;132;01m}\u001B[39;00m\u001B[38;5;124m/\u001B[39m\u001B[38;5;132;01m{\u001B[39;00mSUMMARY_INDEX\u001B[38;5;132;01m}\u001B[39;00m\u001B[38;5;124m/_search\u001B[39m\u001B[38;5;124m\"\u001B[39m, data\u001B[38;5;241m=\u001B[39mjson\u001B[38;5;241m.\u001B[39mdumps(fos_cms_query))\n\u001B[1;32m     47\u001B[0m response_json \u001B[38;5;241m=\u001B[39m response\u001B[38;5;241m.\u001B[39mjson()\n",
      "\u001B[0;31mNameError\u001B[0m: name 'datetime' is not defined"
     ]
    }
   ],
   "source": [
    "fos_cms_query = {\n",
    "    \"size\": 0,\n",
    "    \"query\": {\n",
    "        \"bool\" : {\n",
    "            \"filter\" : [\n",
    "                { \"term\" : { \"ProjectName\": \"cms\" }},\n",
    "                { \"range\": {\n",
    "                    \"EndTime\": {\n",
    "                        \"lte\": int(datetime.datetime.now().timestamp()*1000),\n",
    "                        \"gte\": int((datetime.datetime.now() - datetime.timedelta(days=365)).timestamp()*1000)\n",
    "                    }\n",
    "                }}\n",
    "            ],\n",
    "        },\n",
    "    },\n",
    "    \"aggs\": {\n",
    "        \"FOS\" : {\n",
    "            \"terms\": {\n",
    "                \"field\": \"OIM_FieldOfScience\",\n",
    "                \"size\" : 99999999,\n",
    "            },\n",
    "            \"aggs\": {\n",
    "                \"ResourceType\": {\n",
    "                    \"terms\": {\n",
    "                        \"field\": \"ResourceType\",\n",
    "                        \"size\": 99999999\n",
    "                    },\n",
    "                    \"aggs\": {\n",
    "                        \"projectCpu\": {\n",
    "                            \"sum\": {\n",
    "                                \"field\": \"CoreHours\"\n",
    "                            }\n",
    "                        },\n",
    "                        \"projectGpu\": {\n",
    "                            \"sum\": {\n",
    "                                \"field\": \"GPUHours\"\n",
    "                            }\n",
    "                        }\n",
    "                    }\n",
    "                }\n",
    "            }\n",
    "        }\n",
    "    }\n",
    "}\n",
    "\n",
    "response = SESSION.post(f\"{ENDPOINT}/{SUMMARY_INDEX}/_search\", data=json.dumps(fos_cms_query))\n",
    "response_json = response.json()\n",
    "response_json"
   ],
   "metadata": {
    "collapsed": false,
    "pycharm": {
     "name": "#%%\n"
    }
   }
  },
  {
   "cell_type": "code",
   "execution_count": null,
   "outputs": [],
   "source": [],
   "metadata": {
    "collapsed": false,
    "pycharm": {
     "name": "#%%\n"
    }
   }
  }
 ],
 "metadata": {
  "kernelspec": {
   "display_name": "Python 3 (ipykernel)",
   "language": "python",
   "name": "python3"
  },
  "language_info": {
   "codemirror_mode": {
    "name": "ipython",
    "version": 3
   },
   "file_extension": ".py",
   "mimetype": "text/x-python",
   "name": "python",
   "nbconvert_exporter": "python",
   "pygments_lexer": "ipython3",
   "version": "3.9.5"
  }
 },
 "nbformat": 4,
 "nbformat_minor": 1
}